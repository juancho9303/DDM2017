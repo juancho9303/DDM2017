{
 "cells": [
  {
   "cell_type": "markdown",
   "metadata": {},
   "source": [
    "# 1. A database for a time-domain survey (Creation of my database)"
   ]
  },
  {
   "cell_type": "code",
   "execution_count": 20,
   "metadata": {
    "collapsed": false
   },
   "outputs": [
    {
     "name": "stdout",
     "output_type": "stream",
     "text": [
      "Using matplotlib backend: Qt4Agg\n",
      "Populating the interactive namespace from numpy and matplotlib\n"
     ]
    }
   ],
   "source": [
    "%pylab\n",
    "# IPython has a built-in mode to work cleanly with matplotlib figures, this is one way to invoke it."
   ]
  },
  {
   "cell_type": "code",
   "execution_count": 21,
   "metadata": {
    "collapsed": true
   },
   "outputs": [],
   "source": [
    "import sqlite3 as sq\n",
    "from astropy.table import vstack, Table\n",
    "import glob\n",
    "import os\n",
    "import pandas as pd\n",
    "import numpy as np\n",
    "# Import neccessary libraries"
   ]
  },
  {
   "cell_type": "code",
   "execution_count": 22,
   "metadata": {
    "collapsed": true
   },
   "outputs": [],
   "source": [
    "import seaborn #nice plots"
   ]
  },
  {
   "cell_type": "code",
   "execution_count": 23,
   "metadata": {
    "collapsed": false
   },
   "outputs": [],
   "source": [
    "info = Table.read('/home/juancho/Master/Semester3/DBDM/DDM2017_FinalProject/FinalProject/Q1/Tables/file_info_for_problem.csv',format='ascii.csv')\n",
    "# Read the information file with the headers of the files (this is my laptop's path to the files)"
   ]
  },
  {
   "cell_type": "code",
   "execution_count": 24,
   "metadata": {
    "collapsed": false
   },
   "outputs": [
    {
     "data": {
      "text/html": [
       "&lt;Table length=18&gt;\n",
       "<table id=\"table139738308666640\" class=\"table-striped table-bordered table-condensed\">\n",
       "<thead><tr><th>ID</th><th>FieldID</th><th>Filename</th><th>Filter</th><th>MJD</th><th>Airmass</th><th>Exptime</th></tr></thead>\n",
       "<thead><tr><th>int64</th><th>int64</th><th>str36</th><th>str2</th><th>float64</th><th>float64</th><th>float64</th></tr></thead>\n",
       "<tr><td>1</td><td>1</td><td>Z-ADP.2017-01-18T11:58:36.905.fits</td><td>Z</td><td>57267.1671072</td><td>1.6405</td><td>40.0</td></tr>\n",
       "<tr><td>2</td><td>1</td><td>J-ADP.2017-01-18T11:58:35.781.fits</td><td>J</td><td>57257.0504323</td><td>1.0105</td><td>48.0</td></tr>\n",
       "<tr><td>3</td><td>1</td><td>H-ADP.2017-01-18T11:58:35.780.fits</td><td>H</td><td>57257.044108</td><td>1.006</td><td>16.0</td></tr>\n",
       "<tr><td>4</td><td>1</td><td>Ks-ADP.2016-05-25T15:33:39.546.fits</td><td>Ks</td><td>56788.346937</td><td>1.023</td><td>16.0</td></tr>\n",
       "<tr><td>5</td><td>1</td><td>Ks-ADP.2017-01-18T11:58:39.907.fits</td><td>Ks</td><td>56561.0020158</td><td>1.079</td><td>16.0</td></tr>\n",
       "<tr><td>6</td><td>1</td><td>Ks-ADP.2016-05-25T15:33:43.377.fits</td><td>Ks</td><td>56829.0390512</td><td>1.6085</td><td>16.0</td></tr>\n",
       "<tr><td>7</td><td>1</td><td>Y-ADP.2017-01-18T11:58:36.901.fits</td><td>Y</td><td>57267.1596647</td><td>1.5605</td><td>40.0</td></tr>\n",
       "<tr><td>8</td><td>2</td><td>Z-ADP.2017-01-18T11:58:36.905b.fits</td><td>Z</td><td>57268.1671072</td><td>1.6405</td><td>40.0</td></tr>\n",
       "<tr><td>9</td><td>2</td><td>J-ADP.2017-01-18T11:58:35.781b.fits</td><td>J</td><td>57258.0504323</td><td>1.0105</td><td>48.0</td></tr>\n",
       "<tr><td>10</td><td>2</td><td>H-ADP.2017-01-18T11:58:35.780b.fits</td><td>H</td><td>57258.044108</td><td>1.006</td><td>16.0</td></tr>\n",
       "<tr><td>11</td><td>2</td><td>Ks-ADP.2016-05-25T15:33:39.546b.fits</td><td>Ks</td><td>56789.346937</td><td>1.023</td><td>16.0</td></tr>\n",
       "<tr><td>12</td><td>2</td><td>Y-ADP.2017-01-18T11:58:36.901b.fits</td><td>Y</td><td>57268.1596647</td><td>1.5605</td><td>40.0</td></tr>\n",
       "<tr><td>13</td><td>3</td><td>Z-ADP.2017-01-18T11:58:36.905c.fits</td><td>Z</td><td>57268.1671072</td><td>1.6405</td><td>40.0</td></tr>\n",
       "<tr><td>14</td><td>3</td><td>J-ADP.2017-01-18T11:58:35.781c.fits</td><td>J</td><td>57258.0504323</td><td>1.0105</td><td>48.0</td></tr>\n",
       "<tr><td>15</td><td>3</td><td>H-ADP.2017-01-18T11:58:35.780c.fits</td><td>H</td><td>57258.044108</td><td>1.006</td><td>16.0</td></tr>\n",
       "<tr><td>16</td><td>3</td><td>Ks-ADP.2016-05-25T15:33:39.546c.fits</td><td>Ks</td><td>56789.346937</td><td>1.023</td><td>16.0</td></tr>\n",
       "<tr><td>17</td><td>3</td><td>Ks-ADP.2017-01-18T11:58:39.907c.fits</td><td>Ks</td><td>56562.0020158</td><td>1.079</td><td>16.0</td></tr>\n",
       "<tr><td>18</td><td>3</td><td>Y-ADP.2017-01-18T11:58:36.901c.fits</td><td>Y</td><td>57268.1596647</td><td>1.5605</td><td>40.0</td></tr>\n",
       "</table>"
      ],
      "text/plain": [
       "<Table length=18>\n",
       "  ID  FieldID               Filename               ... Airmass Exptime\n",
       "int64  int64                 str36                 ... float64 float64\n",
       "----- ------- ------------------------------------ ... ------- -------\n",
       "    1       1   Z-ADP.2017-01-18T11:58:36.905.fits ...  1.6405    40.0\n",
       "    2       1   J-ADP.2017-01-18T11:58:35.781.fits ...  1.0105    48.0\n",
       "    3       1   H-ADP.2017-01-18T11:58:35.780.fits ...   1.006    16.0\n",
       "    4       1  Ks-ADP.2016-05-25T15:33:39.546.fits ...   1.023    16.0\n",
       "    5       1  Ks-ADP.2017-01-18T11:58:39.907.fits ...   1.079    16.0\n",
       "    6       1  Ks-ADP.2016-05-25T15:33:43.377.fits ...  1.6085    16.0\n",
       "    7       1   Y-ADP.2017-01-18T11:58:36.901.fits ...  1.5605    40.0\n",
       "    8       2  Z-ADP.2017-01-18T11:58:36.905b.fits ...  1.6405    40.0\n",
       "    9       2  J-ADP.2017-01-18T11:58:35.781b.fits ...  1.0105    48.0\n",
       "   10       2  H-ADP.2017-01-18T11:58:35.780b.fits ...   1.006    16.0\n",
       "   11       2 Ks-ADP.2016-05-25T15:33:39.546b.fits ...   1.023    16.0\n",
       "   12       2  Y-ADP.2017-01-18T11:58:36.901b.fits ...  1.5605    40.0\n",
       "   13       3  Z-ADP.2017-01-18T11:58:36.905c.fits ...  1.6405    40.0\n",
       "   14       3  J-ADP.2017-01-18T11:58:35.781c.fits ...  1.0105    48.0\n",
       "   15       3  H-ADP.2017-01-18T11:58:35.780c.fits ...   1.006    16.0\n",
       "   16       3 Ks-ADP.2016-05-25T15:33:39.546c.fits ...   1.023    16.0\n",
       "   17       3 Ks-ADP.2017-01-18T11:58:39.907c.fits ...   1.079    16.0\n",
       "   18       3  Y-ADP.2017-01-18T11:58:36.901c.fits ...  1.5605    40.0"
      ]
     },
     "execution_count": 24,
     "metadata": {},
     "output_type": "execute_result"
    }
   ],
   "source": [
    "info\n",
    "# Simply show the information contained in the tables (not relevant in the process of creating of the table)"
   ]
  },
  {
   "cell_type": "code",
   "execution_count": 25,
   "metadata": {
    "collapsed": false
   },
   "outputs": [],
   "source": [
    "files = os.listdir(\"/home/juancho/Master/Semester3/DBDM/DDM2017_FinalProject/FinalProject/Q1/Tables\")\n",
    "\n",
    "# Create an empty array to add the real name of the files\n",
    "list2 = []\n",
    "\n",
    "for names in files:\n",
    "    if names.endswith(\".fits\"):\n",
    "        list2.append(names)"
   ]
  },
  {
   "cell_type": "code",
   "execution_count": 26,
   "metadata": {
    "collapsed": false
   },
   "outputs": [],
   "source": [
    "#list2\n",
    "# Simply show list2 in order to inspect by eye the names so they match (again not too relevant)"
   ]
  },
  {
   "cell_type": "code",
   "execution_count": 27,
   "metadata": {
    "collapsed": true
   },
   "outputs": [],
   "source": [
    "# Now, using the Julian date as a reference, I want to match the name of the files with their corresponding filename\n",
    "# from the table. To do so, I manually match them and create by hand a list with this file and add it to \"Info\"\n",
    "\n",
    "names_to_match = ['Field-1-Z','Field-1-J','Field-1-H','Field-1-Ks-E002','Field-1-Ks-E001',\n",
    "            'Field-1-Ks-E003','Field-1-Y','Field-2-Z','Field-2-J','Field-2-H',\n",
    "            'Field-2-Ks-E001','Field-2-Y','Field-3-Z','Field-3-J','Field-3-H',\n",
    "             'Field-3-Ks-E002','Field-3-Ks-E001','Field-3-Y']"
   ]
  },
  {
   "cell_type": "code",
   "execution_count": 28,
   "metadata": {
    "collapsed": false
   },
   "outputs": [],
   "source": [
    "info['Real_name'] = names_to_match\n",
    "# This command adds the new column with the other names of the files to \"info\""
   ]
  },
  {
   "cell_type": "code",
   "execution_count": 29,
   "metadata": {
    "collapsed": false
   },
   "outputs": [
    {
     "data": {
      "text/html": [
       "&lt;Table length=18&gt;\n",
       "<table id=\"table139738308666640\" class=\"table-striped table-bordered table-condensed\">\n",
       "<thead><tr><th>ID</th><th>FieldID</th><th>Filename</th><th>Filter</th><th>MJD</th><th>Airmass</th><th>Exptime</th><th>Real_name</th></tr></thead>\n",
       "<thead><tr><th>int64</th><th>int64</th><th>str36</th><th>str2</th><th>float64</th><th>float64</th><th>float64</th><th>str15</th></tr></thead>\n",
       "<tr><td>1</td><td>1</td><td>Z-ADP.2017-01-18T11:58:36.905.fits</td><td>Z</td><td>57267.1671072</td><td>1.6405</td><td>40.0</td><td>Field-1-Z</td></tr>\n",
       "<tr><td>2</td><td>1</td><td>J-ADP.2017-01-18T11:58:35.781.fits</td><td>J</td><td>57257.0504323</td><td>1.0105</td><td>48.0</td><td>Field-1-J</td></tr>\n",
       "<tr><td>3</td><td>1</td><td>H-ADP.2017-01-18T11:58:35.780.fits</td><td>H</td><td>57257.044108</td><td>1.006</td><td>16.0</td><td>Field-1-H</td></tr>\n",
       "<tr><td>4</td><td>1</td><td>Ks-ADP.2016-05-25T15:33:39.546.fits</td><td>Ks</td><td>56788.346937</td><td>1.023</td><td>16.0</td><td>Field-1-Ks-E002</td></tr>\n",
       "<tr><td>5</td><td>1</td><td>Ks-ADP.2017-01-18T11:58:39.907.fits</td><td>Ks</td><td>56561.0020158</td><td>1.079</td><td>16.0</td><td>Field-1-Ks-E001</td></tr>\n",
       "<tr><td>6</td><td>1</td><td>Ks-ADP.2016-05-25T15:33:43.377.fits</td><td>Ks</td><td>56829.0390512</td><td>1.6085</td><td>16.0</td><td>Field-1-Ks-E003</td></tr>\n",
       "<tr><td>7</td><td>1</td><td>Y-ADP.2017-01-18T11:58:36.901.fits</td><td>Y</td><td>57267.1596647</td><td>1.5605</td><td>40.0</td><td>Field-1-Y</td></tr>\n",
       "<tr><td>8</td><td>2</td><td>Z-ADP.2017-01-18T11:58:36.905b.fits</td><td>Z</td><td>57268.1671072</td><td>1.6405</td><td>40.0</td><td>Field-2-Z</td></tr>\n",
       "<tr><td>9</td><td>2</td><td>J-ADP.2017-01-18T11:58:35.781b.fits</td><td>J</td><td>57258.0504323</td><td>1.0105</td><td>48.0</td><td>Field-2-J</td></tr>\n",
       "<tr><td>10</td><td>2</td><td>H-ADP.2017-01-18T11:58:35.780b.fits</td><td>H</td><td>57258.044108</td><td>1.006</td><td>16.0</td><td>Field-2-H</td></tr>\n",
       "<tr><td>11</td><td>2</td><td>Ks-ADP.2016-05-25T15:33:39.546b.fits</td><td>Ks</td><td>56789.346937</td><td>1.023</td><td>16.0</td><td>Field-2-Ks-E001</td></tr>\n",
       "<tr><td>12</td><td>2</td><td>Y-ADP.2017-01-18T11:58:36.901b.fits</td><td>Y</td><td>57268.1596647</td><td>1.5605</td><td>40.0</td><td>Field-2-Y</td></tr>\n",
       "<tr><td>13</td><td>3</td><td>Z-ADP.2017-01-18T11:58:36.905c.fits</td><td>Z</td><td>57268.1671072</td><td>1.6405</td><td>40.0</td><td>Field-3-Z</td></tr>\n",
       "<tr><td>14</td><td>3</td><td>J-ADP.2017-01-18T11:58:35.781c.fits</td><td>J</td><td>57258.0504323</td><td>1.0105</td><td>48.0</td><td>Field-3-J</td></tr>\n",
       "<tr><td>15</td><td>3</td><td>H-ADP.2017-01-18T11:58:35.780c.fits</td><td>H</td><td>57258.044108</td><td>1.006</td><td>16.0</td><td>Field-3-H</td></tr>\n",
       "<tr><td>16</td><td>3</td><td>Ks-ADP.2016-05-25T15:33:39.546c.fits</td><td>Ks</td><td>56789.346937</td><td>1.023</td><td>16.0</td><td>Field-3-Ks-E002</td></tr>\n",
       "<tr><td>17</td><td>3</td><td>Ks-ADP.2017-01-18T11:58:39.907c.fits</td><td>Ks</td><td>56562.0020158</td><td>1.079</td><td>16.0</td><td>Field-3-Ks-E001</td></tr>\n",
       "<tr><td>18</td><td>3</td><td>Y-ADP.2017-01-18T11:58:36.901c.fits</td><td>Y</td><td>57268.1596647</td><td>1.5605</td><td>40.0</td><td>Field-3-Y</td></tr>\n",
       "</table>"
      ],
      "text/plain": [
       "<Table length=18>\n",
       "  ID  FieldID               Filename               ... Exptime    Real_name   \n",
       "int64  int64                 str36                 ... float64      str15     \n",
       "----- ------- ------------------------------------ ... ------- ---------------\n",
       "    1       1   Z-ADP.2017-01-18T11:58:36.905.fits ...    40.0       Field-1-Z\n",
       "    2       1   J-ADP.2017-01-18T11:58:35.781.fits ...    48.0       Field-1-J\n",
       "    3       1   H-ADP.2017-01-18T11:58:35.780.fits ...    16.0       Field-1-H\n",
       "    4       1  Ks-ADP.2016-05-25T15:33:39.546.fits ...    16.0 Field-1-Ks-E002\n",
       "    5       1  Ks-ADP.2017-01-18T11:58:39.907.fits ...    16.0 Field-1-Ks-E001\n",
       "    6       1  Ks-ADP.2016-05-25T15:33:43.377.fits ...    16.0 Field-1-Ks-E003\n",
       "    7       1   Y-ADP.2017-01-18T11:58:36.901.fits ...    40.0       Field-1-Y\n",
       "    8       2  Z-ADP.2017-01-18T11:58:36.905b.fits ...    40.0       Field-2-Z\n",
       "    9       2  J-ADP.2017-01-18T11:58:35.781b.fits ...    48.0       Field-2-J\n",
       "   10       2  H-ADP.2017-01-18T11:58:35.780b.fits ...    16.0       Field-2-H\n",
       "   11       2 Ks-ADP.2016-05-25T15:33:39.546b.fits ...    16.0 Field-2-Ks-E001\n",
       "   12       2  Y-ADP.2017-01-18T11:58:36.901b.fits ...    40.0       Field-2-Y\n",
       "   13       3  Z-ADP.2017-01-18T11:58:36.905c.fits ...    40.0       Field-3-Z\n",
       "   14       3  J-ADP.2017-01-18T11:58:35.781c.fits ...    48.0       Field-3-J\n",
       "   15       3  H-ADP.2017-01-18T11:58:35.780c.fits ...    16.0       Field-3-H\n",
       "   16       3 Ks-ADP.2016-05-25T15:33:39.546c.fits ...    16.0 Field-3-Ks-E002\n",
       "   17       3 Ks-ADP.2017-01-18T11:58:39.907c.fits ...    16.0 Field-3-Ks-E001\n",
       "   18       3  Y-ADP.2017-01-18T11:58:36.901c.fits ...    40.0       Field-3-Y"
      ]
     },
     "execution_count": 29,
     "metadata": {},
     "output_type": "execute_result"
    }
   ],
   "source": [
    "info\n",
    "# Simply show the updated Info (with the new column included)"
   ]
  },
  {
   "cell_type": "code",
   "execution_count": 34,
   "metadata": {
    "collapsed": false
   },
   "outputs": [],
   "source": [
    "# Now that the names match, I can create the database with all the relevant information. I found it easier\n",
    "# to create a big data table because there are variables that can filter out any object with a simple SQL querie.\n",
    "# My database is called \"All_data\"\n",
    "\n",
    "# I create an empty table and read the files that have the information that I will add to that table\n",
    "All_data = Table()\n",
    "\n",
    "# The ID, Filter and FieldID are the variables that my new database and info have in common so I can\n",
    "# use them to create the table and include all the information. \n",
    "\n",
    "for ii,files in enumerate(names_to_match):\n",
    "    Files = Table.read('/home/juancho/Master/Semester3/DBDM/DDM2017_FinalProject/FinalProject/Q1/Tables/'+str(files)+'.fits',format='fits')\n",
    "    for jj,alloc in enumerate(info):\n",
    "        if alloc['Real_name']  == files:\n",
    "            Files['ID']         = np.ones(len(Files))*alloc['ID']\n",
    "            Files['Filter']     = alloc['Filter']\n",
    "            Files['FieldID']    = alloc['FieldID']\n",
    "                        \n",
    "    # Stack all the data to the table\n",
    "    All_data = vstack([All_data,Files])"
   ]
  },
  {
   "cell_type": "code",
   "execution_count": 32,
   "metadata": {
    "collapsed": true
   },
   "outputs": [],
   "source": [
    "# With this line I just want to include a column with the S/N calculated from Flux1/dFlux1 beacuse it is \n",
    "# useful to have it there.\n",
    "\n",
    "All_data['SN'] = All_data[\"Flux1\"]/All_data[\"dFlux1\"]"
   ]
  },
  {
   "cell_type": "code",
   "execution_count": 33,
   "metadata": {
    "collapsed": false
   },
   "outputs": [
    {
     "data": {
      "text/html": [
       "&lt;Table masked=True length=180000&gt;\n",
       "<table id=\"table139738308666256\" class=\"table-striped table-bordered table-condensed\">\n",
       "<thead><tr><th>RunningID</th><th>X</th><th>Y</th><th>Flux1</th><th>dFlux1</th><th>Flux2</th><th>dFlux2</th><th>Flux3</th><th>dFlux3</th><th>Ra</th><th>Dec</th><th>Class</th><th>Mag1</th><th>dMag1</th><th>Mag2</th><th>dMag2</th><th>Mag3</th><th>dMag3</th><th>StarID</th><th>ID</th><th>Filter</th><th>FieldID</th><th>SN</th></tr></thead>\n",
       "<thead><tr><th>Number</th><th>Pixels</th><th>Pixels</th><th>ADU</th><th>ADU</th><th>ADU</th><th>ADU</th><th>ADU</th><th>ADU</th><th>RADIANS</th><th>RADIANS</th><th>Flag</th><th>ADU</th><th>ADU</th><th>ADU</th><th>ADU</th><th>ADU</th><th>ADU</th><th></th><th></th><th></th><th></th><th></th></tr></thead>\n",
       "<thead><tr><th>float32</th><th>float32</th><th>float32</th><th>float32</th><th>float32</th><th>float32</th><th>float32</th><th>float32</th><th>float32</th><th>float32</th><th>float32</th><th>float32</th><th>float32</th><th>float32</th><th>float32</th><th>float32</th><th>float32</th><th>float32</th><th>int64</th><th>float64</th><th>str2</th><th>int64</th><th>float32</th></tr></thead>\n",
       "<tr><td>9.0</td><td>6676.62</td><td>5.03455</td><td>2886.02</td><td>145.136</td><td>4697.14</td><td>205.506</td><td>6884.06</td><td>291.283</td><td>4.70662</td><td>-0.529796</td><td>-1.0</td><td>17.433</td><td>0.054601</td><td>17.4321</td><td>0.0475026</td><td>17.4231</td><td>0.0459405</td><td>0</td><td>18.0</td><td>Z</td><td>1</td><td>19.885</td></tr>\n",
       "<tr><td>13.0</td><td>6841.46</td><td>5.31207</td><td>2585.4</td><td>144.623</td><td>4467.49</td><td>205.039</td><td>6966.38</td><td>290.953</td><td>4.7069</td><td>-0.529931</td><td>1.0</td><td>17.5525</td><td>0.0607343</td><td>17.4866</td><td>0.049831</td><td>17.4102</td><td>0.0453463</td><td>1</td><td>18.0</td><td>Z</td><td>1</td><td>17.8769</td></tr>\n",
       "<tr><td>15.0</td><td>6355.06</td><td>5.88212</td><td>2765.64</td><td>145.052</td><td>4436.22</td><td>205.378</td><td>6540.06</td><td>291.163</td><td>4.70609</td><td>-0.529531</td><td>-1.0</td><td>17.4793</td><td>0.0569448</td><td>17.4942</td><td>0.050265</td><td>17.4788</td><td>0.048337</td><td>2</td><td>18.0</td><td>Z</td><td>1</td><td>19.0665</td></tr>\n",
       "<tr><td>19.0</td><td>5897.49</td><td>7.52958</td><td>899.127</td><td>138.445</td><td>1464.07</td><td>197.921</td><td>2023.29</td><td>284.087</td><td>4.70533</td><td>-0.529153</td><td>-1.0</td><td>18.6992</td><td>0.167179</td><td>18.6978</td><td>0.146776</td><td>18.7526</td><td>0.152447</td><td>3</td><td>18.0</td><td>Z</td><td>1</td><td>6.49449</td></tr>\n",
       "<tr><td>22.0</td><td>5809.89</td><td>6.13442</td><td>3412.75</td><td>140.556</td><td>5444.32</td><td>200.291</td><td>8012.71</td><td>286.57</td><td>4.70518</td><td>-0.529083</td><td>-1.0</td><td>17.251</td><td>0.0447169</td><td>17.2719</td><td>0.0399432</td><td>17.2583</td><td>0.0388309</td><td>4</td><td>18.0</td><td>Z</td><td>1</td><td>24.2803</td></tr>\n",
       "<tr><td>14.0</td><td>6874.91</td><td>5.43629</td><td>4129.01</td><td>145.694</td><td>6773.71</td><td>206.173</td><td>9926.46</td><td>291.985</td><td>4.70695</td><td>-0.529958</td><td>-1.0</td><td>17.0442</td><td>0.0383108</td><td>17.0347</td><td>0.0330469</td><td>17.0257</td><td>0.0319368</td><td>5</td><td>18.0</td><td>Z</td><td>1</td><td>28.3403</td></tr>\n",
       "<tr><td>12.0</td><td>6571.8</td><td>5.21043</td><td>3762.78</td><td>145.753</td><td>6288.57</td><td>206.302</td><td>9654.43</td><td>292.267</td><td>4.70645</td><td>-0.52971</td><td>1.0</td><td>17.145</td><td>0.0420567</td><td>17.1153</td><td>0.0356186</td><td>17.0559</td><td>0.0328684</td><td>6</td><td>18.0</td><td>Z</td><td>1</td><td>25.8161</td></tr>\n",
       "<tr><td>17.0</td><td>6580.03</td><td>6.52743</td><td>2046.26</td><td>144.553</td><td>3359.13</td><td>204.849</td><td>4906.73</td><td>290.597</td><td>4.70647</td><td>-0.529715</td><td>1.0</td><td>17.8064</td><td>0.0766994</td><td>17.7962</td><td>0.0662116</td><td>17.7907</td><td>0.0643021</td><td>7</td><td>18.0</td><td>Z</td><td>1</td><td>14.1558</td></tr>\n",
       "<tr><td>25.0</td><td>5442.76</td><td>5.51923</td><td>7346.58</td><td>142.742</td><td>12718.0</td><td>203.258</td><td>17909.1</td><td>289.473</td><td>4.70457</td><td>-0.528783</td><td>-2.0</td><td>16.4186</td><td>0.0210957</td><td>16.3507</td><td>0.0173522</td><td>16.385</td><td>0.0175494</td><td>8</td><td>18.0</td><td>Z</td><td>1</td><td>51.4674</td></tr>\n",
       "<tr><td>...</td><td>...</td><td>...</td><td>...</td><td>...</td><td>...</td><td>...</td><td>...</td><td>...</td><td>...</td><td>...</td><td>...</td><td>...</td><td>...</td><td>...</td><td>...</td><td>...</td><td>...</td><td>...</td><td>...</td><td>...</td><td>...</td><td>...</td></tr>\n",
       "<tr><td>454501.0</td><td>8370.25</td><td>8615.65</td><td>5359.49</td><td>173.434</td><td>9173.43</td><td>245.963</td><td>14037.6</td><td>349.237</td><td>4.71756</td><td>-0.518785</td><td>1.0</td><td>16.7134</td><td>0.0351348</td><td>16.6306</td><td>0.0291115</td><td>16.5342</td><td>0.0270117</td><td>309990</td><td>18.0</td><td>Y</td><td>3</td><td>30.9022</td></tr>\n",
       "<tr><td>454649.0</td><td>381.916</td><td>8612.85</td><td>6413.47</td><td>167.012</td><td>10117.1</td><td>238.882</td><td>14603.2</td><td>341.807</td><td>4.70435</td><td>-0.512263</td><td>-1.0</td><td>16.5185</td><td>0.0282736</td><td>16.5243</td><td>0.0256361</td><td>16.4913</td><td>0.0254132</td><td>309991</td><td>18.0</td><td>Y</td><td>3</td><td>38.4013</td></tr>\n",
       "<tr><td>454534.0</td><td>4286.15</td><td>8616.46</td><td>5220.01</td><td>162.35</td><td>8160.4</td><td>234.142</td><td>10986.6</td><td>338.537</td><td>4.71079</td><td>-0.515456</td><td>-1.0</td><td>16.7421</td><td>0.033768</td><td>16.7577</td><td>0.0311525</td><td>16.8003</td><td>0.0334555</td><td>309992</td><td>18.0</td><td>Y</td><td>3</td><td>32.1529</td></tr>\n",
       "<tr><td>454663.0</td><td>11292.2</td><td>8620.43</td><td>1401.12</td><td>170.557</td><td>2173.38</td><td>242.701</td><td>2859.15</td><td>347.775</td><td>4.72242</td><td>-0.521146</td><td>-1.0</td><td>18.17</td><td>0.132166</td><td>18.1941</td><td>0.121244</td><td>18.2618</td><td>0.132065</td><td>309993</td><td>18.0</td><td>Y</td><td>3</td><td>8.21498</td></tr>\n",
       "<tr><td>454734.0</td><td>10918.6</td><td>8608.29</td><td>6618.59</td><td>173.542</td><td>10721.7</td><td>246.146</td><td>15272.3</td><td>351.289</td><td>4.72179</td><td>-0.520862</td><td>-1.0</td><td>16.4843</td><td>0.0284686</td><td>16.4613</td><td>0.0249261</td><td>16.4427</td><td>0.0249738</td><td>309994</td><td>18.0</td><td>Y</td><td>3</td><td>38.1382</td></tr>\n",
       "<tr><td>454737.0</td><td>10926.7</td><td>8608.75</td><td>4041.84</td><td>172.073</td><td>6600.35</td><td>244.49</td><td>9854.27</td><td>349.763</td><td>4.7218</td><td>-0.520868</td><td>1.0</td><td>17.0198</td><td>0.0462232</td><td>16.988</td><td>0.040218</td><td>16.9184</td><td>0.0385367</td><td>309995</td><td>18.0</td><td>Y</td><td>3</td><td>23.4891</td></tr>\n",
       "<tr><td>454597.0</td><td>12382.2</td><td>8619.43</td><td>1680.92</td><td>170.13</td><td>2633.37</td><td>241.726</td><td>3609.85</td><td>346.109</td><td>4.72424</td><td>-0.522029</td><td>-1.0</td><td>17.9724</td><td>0.10989</td><td>17.9857</td><td>0.099664</td><td>18.0087</td><td>0.1041</td><td>309996</td><td>18.0</td><td>Y</td><td>3</td><td>9.88023</td></tr>\n",
       "<tr><td>452672.0</td><td>9522.55</td><td>8569.37</td><td>73577.5</td><td>208.132</td><td>118253.0</td><td>285.949</td><td>163345.0</td><td>389.862</td><td>4.71943</td><td>-0.519787</td><td>-1.0</td><td>13.8694</td><td>0.00307128</td><td>13.8549</td><td>0.00262544</td><td>13.8697</td><td>0.00259137</td><td>309997</td><td>18.0</td><td>Y</td><td>3</td><td>353.514</td></tr>\n",
       "<tr><td>453716.0</td><td>9509.0</td><td>8579.43</td><td>2393.7</td><td>170.707</td><td>3852.55</td><td>242.588</td><td>5544.19</td><td>346.473</td><td>4.71942</td><td>-0.519762</td><td>1.0</td><td>17.5886</td><td>0.0774296</td><td>17.5726</td><td>0.0683672</td><td>17.5428</td><td>0.0678511</td><td>309998</td><td>18.0</td><td>Y</td><td>3</td><td>14.0223</td></tr>\n",
       "<tr><td>453717.0</td><td>9514.23</td><td>8593.98</td><td>206286.0</td><td>263.814</td><td>329776.0</td><td>352.055</td><td>473325.0</td><td>463.226</td><td>4.71944</td><td>-0.519745</td><td>-1.0</td><td>12.7501</td><td>0.00138852</td><td>12.7414</td><td>0.00115909</td><td>12.7145</td><td>0.00106257</td><td>309999</td><td>18.0</td><td>Y</td><td>3</td><td>781.938</td></tr>\n",
       "</table>"
      ],
      "text/plain": [
       "<Table masked=True length=180000>\n",
       "RunningID    X       Y     Flux1    dFlux1 ...    ID   Filter FieldID    SN  \n",
       "  Number   Pixels  Pixels   ADU      ADU   ...                               \n",
       " float32  float32 float32 float32  float32 ... float64  str2   int64  float32\n",
       "--------- ------- ------- -------- ------- ... ------- ------ ------- -------\n",
       "      9.0 6676.62 5.03455  2886.02 145.136 ...    18.0      Z       1  19.885\n",
       "     13.0 6841.46 5.31207   2585.4 144.623 ...    18.0      Z       1 17.8769\n",
       "     15.0 6355.06 5.88212  2765.64 145.052 ...    18.0      Z       1 19.0665\n",
       "     19.0 5897.49 7.52958  899.127 138.445 ...    18.0      Z       1 6.49449\n",
       "     22.0 5809.89 6.13442  3412.75 140.556 ...    18.0      Z       1 24.2803\n",
       "     14.0 6874.91 5.43629  4129.01 145.694 ...    18.0      Z       1 28.3403\n",
       "     12.0  6571.8 5.21043  3762.78 145.753 ...    18.0      Z       1 25.8161\n",
       "     17.0 6580.03 6.52743  2046.26 144.553 ...    18.0      Z       1 14.1558\n",
       "     25.0 5442.76 5.51923  7346.58 142.742 ...    18.0      Z       1 51.4674\n",
       "      ...     ...     ...      ...     ... ...     ...    ...     ...     ...\n",
       " 454501.0 8370.25 8615.65  5359.49 173.434 ...    18.0      Y       3 30.9022\n",
       " 454649.0 381.916 8612.85  6413.47 167.012 ...    18.0      Y       3 38.4013\n",
       " 454534.0 4286.15 8616.46  5220.01  162.35 ...    18.0      Y       3 32.1529\n",
       " 454663.0 11292.2 8620.43  1401.12 170.557 ...    18.0      Y       3 8.21498\n",
       " 454734.0 10918.6 8608.29  6618.59 173.542 ...    18.0      Y       3 38.1382\n",
       " 454737.0 10926.7 8608.75  4041.84 172.073 ...    18.0      Y       3 23.4891\n",
       " 454597.0 12382.2 8619.43  1680.92  170.13 ...    18.0      Y       3 9.88023\n",
       " 452672.0 9522.55 8569.37  73577.5 208.132 ...    18.0      Y       3 353.514\n",
       " 453716.0  9509.0 8579.43   2393.7 170.707 ...    18.0      Y       3 14.0223\n",
       " 453717.0 9514.23 8593.98 206286.0 263.814 ...    18.0      Y       3 781.938"
      ]
     },
     "execution_count": 33,
     "metadata": {},
     "output_type": "execute_result"
    }
   ],
   "source": [
    "All_data\n",
    "# Display the current contents of the table \"All_data\""
   ]
  },
  {
   "cell_type": "code",
   "execution_count": 157,
   "metadata": {
    "collapsed": false
   },
   "outputs": [],
   "source": [
    "# In principle this database contains all the information that one may need for the requested queries and for \n",
    "# further data analysis. But, given the characteristic of the queries and the not-so straightforward handling\n",
    "# of SQl, I will include some colours that I will use later on. (This makes the SQL queries easier and faster)\n",
    "\n",
    "#First, I identify the objects that have magnitudes in the H,J and Y filters.\n",
    "\n",
    "All_dataH = All_data[All_data[\"Filter\"]==\"H\"]\n",
    "All_dataJ = All_data[All_data[\"Filter\"]==\"J\"]\n",
    "All_dataY = All_data[All_data[\"Filter\"]==\"Y\"]\n",
    "\n",
    "#Then I simply calculate the colours\n",
    "\n",
    "All_dataJH = All_dataJ[\"Mag1\"][All_dataJ[\"StarID\"] == All_dataH[\"StarID\"]] - All_dataH[\"Mag1\"][All_dataJ[\"StarID\"] == All_dataH[\"StarID\"]]\n",
    "All_dataYJ = All_dataY[\"Mag1\"][All_dataY[\"StarID\"] == All_dataJ[\"StarID\"]] - All_dataJ[\"Mag1\"][All_dataY[\"StarID\"] == All_dataJ[\"StarID\"]]\n"
   ]
  },
  {
   "cell_type": "code",
   "execution_count": 158,
   "metadata": {
    "collapsed": false
   },
   "outputs": [
    {
     "data": {
      "text/html": [
       "&lt;Table masked=True length=30000&gt;\n",
       "<table id=\"table139762551136720\" class=\"table-striped table-bordered table-condensed\">\n",
       "<thead><tr><th>ID</th><th>StarID</th><th>FieldID</th><th>Class_flag_H</th><th>Class_flag_J</th><th>Class_flag_Y</th><th>JH_colour</th><th>YJ_colour</th></tr></thead>\n",
       "<thead><tr><th></th><th></th><th></th><th>Flag</th><th>Flag</th><th>Flag</th><th></th><th></th></tr></thead>\n",
       "<thead><tr><th>float64</th><th>int64</th><th>int64</th><th>float32</th><th>float32</th><th>float32</th><th>float32</th><th>float32</th></tr></thead>\n",
       "<tr><td>7.0</td><td>0</td><td>1</td><td>-1.0</td><td>-2.0</td><td>1.0</td><td>2.45078</td><td>-0.697231</td></tr>\n",
       "<tr><td>7.0</td><td>1</td><td>1</td><td>-1.0</td><td>1.0</td><td>1.0</td><td>2.19091</td><td>-0.245317</td></tr>\n",
       "<tr><td>7.0</td><td>2</td><td>1</td><td>-1.0</td><td>-1.0</td><td>1.0</td><td>1.94639</td><td>-0.305107</td></tr>\n",
       "<tr><td>7.0</td><td>3</td><td>1</td><td>-1.0</td><td>-1.0</td><td>-1.0</td><td>1.49642</td><td>-0.102165</td></tr>\n",
       "<tr><td>7.0</td><td>4</td><td>1</td><td>0.0</td><td>-1.0</td><td>-1.0</td><td>1.57273</td><td>-0.264221</td></tr>\n",
       "<tr><td>7.0</td><td>5</td><td>1</td><td>-1.0</td><td>1.0</td><td>1.0</td><td>2.34517</td><td>-0.529789</td></tr>\n",
       "<tr><td>7.0</td><td>6</td><td>1</td><td>0.0</td><td>1.0</td><td>1.0</td><td>2.05666</td><td>-0.656755</td></tr>\n",
       "<tr><td>7.0</td><td>7</td><td>1</td><td>-1.0</td><td>-2.0</td><td>-1.0</td><td>1.84886</td><td>-0.136379</td></tr>\n",
       "<tr><td>7.0</td><td>8</td><td>1</td><td>-1.0</td><td>-2.0</td><td>-1.0</td><td>0.996487</td><td>-1.0584</td></tr>\n",
       "<tr><td>...</td><td>...</td><td>...</td><td>...</td><td>...</td><td>...</td><td>...</td><td>...</td></tr>\n",
       "<tr><td>18.0</td><td>309990</td><td>3</td><td>1.0</td><td>1.0</td><td>1.0</td><td>1.28304</td><td>-0.141216</td></tr>\n",
       "<tr><td>18.0</td><td>309991</td><td>3</td><td>-1.0</td><td>-1.0</td><td>-1.0</td><td>1.53788</td><td>-0.0191422</td></tr>\n",
       "<tr><td>18.0</td><td>309992</td><td>3</td><td>-1.0</td><td>-1.0</td><td>-1.0</td><td>1.44629</td><td>-0.104012</td></tr>\n",
       "<tr><td>18.0</td><td>309993</td><td>3</td><td>-1.0</td><td>-1.0</td><td>-1.0</td><td>1.44094</td><td>-0.201639</td></tr>\n",
       "<tr><td>18.0</td><td>309994</td><td>3</td><td>-1.0</td><td>-1.0</td><td>-1.0</td><td>1.36176</td><td>-0.173378</td></tr>\n",
       "<tr><td>18.0</td><td>309995</td><td>3</td><td>1.0</td><td>1.0</td><td>1.0</td><td>1.01842</td><td>-0.36426</td></tr>\n",
       "<tr><td>18.0</td><td>309996</td><td>3</td><td>-1.0</td><td>1.0</td><td>-1.0</td><td>1.41693</td><td>-0.301901</td></tr>\n",
       "<tr><td>18.0</td><td>309997</td><td>3</td><td>-1.0</td><td>-1.0</td><td>-1.0</td><td>0.954065</td><td>-0.0473146</td></tr>\n",
       "<tr><td>18.0</td><td>309998</td><td>3</td><td>-1.0</td><td>1.0</td><td>1.0</td><td>1.42243</td><td>-0.147293</td></tr>\n",
       "<tr><td>18.0</td><td>309999</td><td>3</td><td>-1.0</td><td>-1.0</td><td>-1.0</td><td>-0.159562</td><td>-0.561213</td></tr>\n",
       "</table>"
      ],
      "text/plain": [
       "<Table masked=True length=30000>\n",
       "   ID   StarID FieldID Class_flag_H ... Class_flag_Y JH_colour YJ_colour \n",
       "                           Flag     ...     Flag                         \n",
       "float64 int64   int64    float32    ...   float32     float32   float32  \n",
       "------- ------ ------- ------------ ... ------------ --------- ----------\n",
       "    7.0      0       1         -1.0 ...          1.0   2.45078  -0.697231\n",
       "    7.0      1       1         -1.0 ...          1.0   2.19091  -0.245317\n",
       "    7.0      2       1         -1.0 ...          1.0   1.94639  -0.305107\n",
       "    7.0      3       1         -1.0 ...         -1.0   1.49642  -0.102165\n",
       "    7.0      4       1          0.0 ...         -1.0   1.57273  -0.264221\n",
       "    7.0      5       1         -1.0 ...          1.0   2.34517  -0.529789\n",
       "    7.0      6       1          0.0 ...          1.0   2.05666  -0.656755\n",
       "    7.0      7       1         -1.0 ...         -1.0   1.84886  -0.136379\n",
       "    7.0      8       1         -1.0 ...         -1.0  0.996487    -1.0584\n",
       "    ...    ...     ...          ... ...          ...       ...        ...\n",
       "   18.0 309990       3          1.0 ...          1.0   1.28304  -0.141216\n",
       "   18.0 309991       3         -1.0 ...         -1.0   1.53788 -0.0191422\n",
       "   18.0 309992       3         -1.0 ...         -1.0   1.44629  -0.104012\n",
       "   18.0 309993       3         -1.0 ...         -1.0   1.44094  -0.201639\n",
       "   18.0 309994       3         -1.0 ...         -1.0   1.36176  -0.173378\n",
       "   18.0 309995       3          1.0 ...          1.0   1.01842   -0.36426\n",
       "   18.0 309996       3         -1.0 ...         -1.0   1.41693  -0.301901\n",
       "   18.0 309997       3         -1.0 ...         -1.0  0.954065 -0.0473146\n",
       "   18.0 309998       3         -1.0 ...          1.0   1.42243  -0.147293\n",
       "   18.0 309999       3         -1.0 ...         -1.0 -0.159562  -0.561213"
      ]
     },
     "execution_count": 158,
     "metadata": {},
     "output_type": "execute_result"
    }
   ],
   "source": [
    "#I create a new table in which I will include the colours and some more information for further analysis\n",
    "\n",
    "Colours = Table()\n",
    "\n",
    "# I add the useful information in this new table, that is, the ID, StarID, FieldID, ClassH, ClassJ, ClassY, JH colour \n",
    "# and YJ colour\n",
    "\n",
    "Colours['ID']           = All_dataY[\"ID\"][All_dataY[\"StarID\"]      == All_dataJ[\"StarID\"]]\n",
    "Colours['StarID']       = All_dataY[\"StarID\"][All_dataY[\"StarID\"]  == All_dataJ[\"StarID\"]]\n",
    "Colours['FieldID']      = All_dataY[\"FieldID\"][All_dataY[\"StarID\"] == All_dataJ[\"StarID\"]]\n",
    "Colours['Class_flag_H'] = All_dataH[\"Class\"][All_dataH[\"StarID\"]   == All_dataJ[\"StarID\"]]\n",
    "Colours['Class_flag_J'] = All_dataJ[\"Class\"][All_dataJ[\"StarID\"]   == All_dataH[\"StarID\"]]\n",
    "Colours['Class_flag_Y'] = All_dataY[\"Class\"][All_dataY[\"StarID\"]   == All_dataJ[\"StarID\"]]\n",
    "Colours['JH_colour']    = All_dataJH\n",
    "Colours['YJ_colour']    = All_dataYJ\n",
    "\n",
    "Colours\n",
    "#Show the new table with the colours"
   ]
  },
  {
   "cell_type": "code",
   "execution_count": 159,
   "metadata": {
    "collapsed": false
   },
   "outputs": [],
   "source": [
    "# In this part I wanted to include some colours in my big table, but it is not very \n",
    "# helpful and it's not what a real database would contain. Instead, I will focus on doing my queries using the \n",
    "# other table that I created specifically for the colours.\n",
    "\n",
    "#In any case, the code that could in principle include those colours in my big table is the following (although\n",
    "#it's very ineficient'):\n",
    "\n",
    "#for j in range (0, len(Colours)):\n",
    "#    for i in range (0, len(All_data)):\n",
    "#        if (All_data[\"StarID\"][i] == Colours[\"StarID\"][j]):\n",
    "#            #print(Colours[\"JH_colour\"][j])\n",
    "#            All_data['JH_colour'][i] = Colours[\"JH_colour\"][j]\n",
    "#        else:\n",
    "#            All_data['JH_colour'][i] = 0\n"
   ]
  },
  {
   "cell_type": "code",
   "execution_count": 160,
   "metadata": {
    "collapsed": true
   },
   "outputs": [],
   "source": [
    "# Move the data frame to pandas\n",
    "\n",
    "All_data_df = All_data.to_pandas()\n",
    "info_df     = info.to_pandas()\n",
    "Colours_df  = Colours.to_pandas()"
   ]
  },
  {
   "cell_type": "code",
   "execution_count": 161,
   "metadata": {
    "collapsed": false
   },
   "outputs": [],
   "source": [
    "#Schemas: I need three different schemas for the three different tables:\n",
    "\n",
    "info_schema     = \"\"\"CREATE TABLE info (ID INT, FieldID INT, Filename VARCHAR(50), Filter VARCHAR(5), MJD DOUBLE, \n",
    "                Airmass DOUBLE, Exptime DOUBLE, Real_name VARCHAR(50) UNIQUE(ID), PRIMARY KEY(ID, MJD),\n",
    "                FOREIGN KEY(FieldID))\"\"\"\n",
    "\n",
    "Colours_schema  = \"\"\"CREATE TABLE Colours (ID INT, StarID INT, FieldID INT, ClassH, ClassJ INT, ClassY INT, \n",
    "                colorJH DOUBLE, colorYJ DOUBLE, UNIQUE(StarID), PRIMARY KEY(StarID), FOREIGN KEY(FieldID))\"\"\"\n",
    "\n",
    "All_data_schema = \"\"\"CREATE TABLE All_data (RunningID INT, X DOUBLE, Y DOUBLE, Flux1 DOUBLE, dFlux1 DOUBLE, \n",
    "                Flux2 DOUBLE, dFlux2 DOUBLE, Flux3 DOUBLE, dFlux3 DOUBLE, Ra DOUBLE, Dec DOUBLE, Class INT, \n",
    "                Mag1 DOUBLE, dMag1 DOUBLE, Mag2 DOUBLE, dMag2 DOUBLE, Mag3 DOUBLE, dMag3 DOUBLE, StarID INT, \n",
    "                ID INT, Filter VARCHAR(5), FieldID DOUBLE, SN DOUBLE, PRIMARY KEY(StarID), FOREIGN KEY(FieldID, ID))\"\"\""
   ]
  },
  {
   "cell_type": "code",
   "execution_count": 162,
   "metadata": {
    "collapsed": false
   },
   "outputs": [],
   "source": [
    "Name_database = 'Database_Juan.db'\n",
    "\n",
    "con = sq.connect(Name_database)\n",
    "\n",
    "# And create the tables into the Database\n",
    "All_data_df.to_sql('All_data', con, schema=All_data_schema, if_exists='replace')\n",
    "info_df.to_sql('info', con, schema=info_schema, if_exists='replace')\n",
    "Colours_df.to_sql('Colours', con, schema=Colours_schema, if_exists='replace')"
   ]
  },
  {
   "cell_type": "code",
   "execution_count": null,
   "metadata": {
    "collapsed": true
   },
   "outputs": [],
   "source": []
  }
 ],
 "metadata": {
  "kernelspec": {
   "display_name": "Python 2",
   "language": "python",
   "name": "python2"
  },
  "language_info": {
   "codemirror_mode": {
    "name": "ipython",
    "version": 2
   },
   "file_extension": ".py",
   "mimetype": "text/x-python",
   "name": "python",
   "nbconvert_exporter": "python",
   "pygments_lexer": "ipython2",
   "version": "2.7.13"
  }
 },
 "nbformat": 4,
 "nbformat_minor": 2
}
