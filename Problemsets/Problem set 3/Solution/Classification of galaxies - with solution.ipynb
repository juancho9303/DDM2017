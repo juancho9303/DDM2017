{
 "cells": [
  {
   "cell_type": "markdown",
   "metadata": {},
   "source": [
    "# Galaxy morphology from rest-frame colours\n",
    "\n",
    "In this task you will use machine learning in Python to assign morphological classes to galaxies. We will do this by constructing the appropriate likelihoods. This is a powerful, and theoretically optimal, way to classify samples.\n",
    "\n",
    "The aim here is to first classify into two classes which for simplicty I will call elliptical and spiral. To be concrete I adopt a convention where write the classes as ${\\omega_i}$. The elliptical class then becomes $\\omega_0$  and the spiral classs $\\omega_2$.\n",
    "\n",
    "We now need to determine $p(g-r|\\omega_0)$ and $p(g-r|\\omega_1)$. If we assume the two classes are equally likely we can use Bayes theorem to write\n",
    "\n",
    "$$p(\\omega_0|g-r) \\propto p(g-r|\\omega_0)$$\n",
    "\n",
    "which is what we need to classify our galaxies.\n"
   ]
  },
  {
   "cell_type": "markdown",
   "metadata": {},
   "source": [
    "## Deciding on what we need to use\n",
    "\n",
    "We want to model the class likelihoods in a non-parameteric way here. This means estimating them for instance using Kernel density estimation, k-nearest neighbour estimation, or Gaussian Mixture Modeling.\n",
    "\n",
    "For the first part of the problem we will use Kernel Density Estimation. So we need to input this along with a few other useful packages."
   ]
  },
  {
   "cell_type": "code",
   "execution_count": 32,
   "metadata": {
    "collapsed": false
   },
   "outputs": [],
   "source": [
    "# These should be obvious now\n",
    "from astropy.io import fits\n",
    "import matplotlib.pyplot as plt\n",
    "import numpy as np\n",
    "from astroML.plotting import hist\n",
    "\n",
    "# For Kernel density estimation\n",
    "from sklearn.neighbors import KernelDensity\n",
    "# Not a particularly crucial routine - it provides a quick way to split a sample into\n",
    "# a training and test sample.\n",
    "from sklearn.cross_validation import train_test_split\n",
    "\n",
    "# We need GMMs later - but since the interface has changed I'll import sklearn.mixture itself.\n",
    "import sklearn.mixture as mixture\n",
    "\n",
    "# These two are needed for the I/O routines below\n",
    "import cPickle\n",
    "import sys\n",
    "\n",
    "# Finally, since this is a Jupyter/IPython notebook, I want inline\n",
    "# graphics.\n",
    "%matplotlib inline"
   ]
  },
  {
   "cell_type": "markdown",
   "metadata": {},
   "source": [
    "## Input of data and data manipulation\n",
    "\n",
    "A key challenge in any data mining/machine learning program is to decide what to include in the modeling - the feature extraction. Here the main feature is the $g-r$ colour of the objects so we do not need to worry about that.\n",
    "\n",
    "However we also need to consider the data that we will want to use to model our class likelihood. First I need a routine to load my datafile. But I also include the two simple pickling routines we have seen earlier in case you want to use those later."
   ]
  },
  {
   "cell_type": "code",
   "execution_count": 2,
   "metadata": {
    "collapsed": true
   },
   "outputs": [],
   "source": [
    "def pickle_to_file(data, fname):\n",
    "\n",
    "    try:\n",
    "        fh = open(fname, 'w')\n",
    "        cPickle.dump(data, fh)\n",
    "        fh.close()\n",
    "    except:\n",
    "        print \"Pickling failed!\", sys.exc_info()[0]\n",
    "\n",
    "def pickle_from_file(fname):\n",
    "\n",
    "    try:\n",
    "        fh = open(fname, 'r')\n",
    "        data = cPickle.load(fh)\n",
    "        fh.close()\n",
    "    except:\n",
    "        print \"Loading pickled data failed!\", sys.exc_info()[0]\n",
    "        data = None\n",
    "\n",
    "    return data\n",
    "\n",
    "def read_morphology_catalogue():\n",
    "    \"\"\"\n",
    "    Get the Nair & Abraham morphology catalogue in the modified form\n",
    "    including absolute magnitudes and simple classification created\n",
    "    by the DDM11_MORPH_CREATE_SIMPLE_DATAFILE IDL routine.\n",
    "    \n",
    "    You need to modify this routine to find the file below.\n",
    "    \n",
    "    \"\"\"\n",
    "    if all:\n",
    "        suff = '-all'\n",
    "    else:\n",
    "        suff = ''\n",
    "       \n",
    "    # ADJUST THIS LOCATION IF NECESSARY!!\n",
    "    fname = '../Datafiles/Nair-Abraham-2010-edited-for-class.fits'\n",
    "    hdul = fits.open(fname)\n",
    "    t = hdul[1].data\n",
    "    hdul.close()\n",
    "\n",
    "    return t\n"
   ]
  },
  {
   "cell_type": "code",
   "execution_count": 3,
   "metadata": {
    "collapsed": false
   },
   "outputs": [],
   "source": [
    "t = read_morphology_catalogue()"
   ]
  },
  {
   "cell_type": "markdown",
   "metadata": {},
   "source": [
    "### Labelling of the galaxies\n",
    "\n",
    "The current catalogue has a finely graded morphological classification using T-types. The aim here is however to be coarses and just classify galaxies into spirals and ellipticals - thus the fine-grained information in T-types is overkill. This is therefore a simple routine that labels the galaxies so that ellipticals have class 0 and spirals 1 - galaxies that do not fall into either of these two classes will have class = -1."
   ]
  },
  {
   "cell_type": "code",
   "execution_count": 4,
   "metadata": {
    "collapsed": true
   },
   "outputs": [],
   "source": [
    "def create_label(t, ellipticals=(-10, 4), spirals=(4, 10)):\n",
    "    \"\"\"\n",
    "    Create a simple label for the elliptical, spiral classes based\n",
    "    on the galaxy T-type.\n",
    "\n",
    "    Input:\n",
    "    ------\n",
    "       t: A table with T-types (in table element T_TYPE). The format is\n",
    "          expected to be that returned by read_morphology_catalogue, but \n",
    "          any dictionary-like object with T_TYPE would work.\n",
    "          \n",
    "     ellipticals: A tuple giving the range of T-types to map to the elliptical class\n",
    "                  Default: (-10, 4)\n",
    "         spirals: The same as ellipticals, but now for spiral galaxies.\n",
    "                  Default: (4, 10)\n",
    "\n",
    "    Output:\n",
    "    -------\n",
    "    The routine returns an integer array with the same number\n",
    "    of elements as T_TYPE. For ellipticals the value is 0 and\n",
    "    for spirals the value is 1. For galaxies where no classification\n",
    "    is made the label is -1.\n",
    "    \"\"\"\n",
    "\n",
    "    ttype = t['T_TYPE']\n",
    "    label = np.zeros(len(ttype), int)-1\n",
    "\n",
    "    is_e = np.where((ttype >= ellipticals[0]) &\n",
    "                    (ttype <= ellipticals[1]))\n",
    "    is_s = np.where((ttype >= spirals[0]) &\n",
    "                    (ttype <= spirals[1]))\n",
    "\n",
    "    label[is_e] = 0\n",
    "    label[is_s] = 1\n",
    "\n",
    "    return label   "
   ]
  },
  {
   "cell_type": "code",
   "execution_count": 5,
   "metadata": {
    "collapsed": false
   },
   "outputs": [],
   "source": [
    "label = create_label(t)"
   ]
  },
  {
   "cell_type": "code",
   "execution_count": 6,
   "metadata": {
    "collapsed": false
   },
   "outputs": [
    {
     "data": {
      "text/plain": [
       "<matplotlib.text.Text at 0x113d679d0>"
      ]
     },
     "execution_count": 6,
     "metadata": {},
     "output_type": "execute_result"
    },
    {
     "data": {
      "image/png": "[encoded data removed]",
      "text/plain": [
       "<matplotlib.figure.Figure at 0x10644a8d0>"
      ]
     },
     "metadata": {},
     "output_type": "display_data"
    }
   ],
   "source": [
    "h = plt.hist(label, histtype='bar')\n",
    "plt.xlabel('Class')"
   ]
  },
  {
   "cell_type": "markdown",
   "metadata": {},
   "source": [
    "Next, I would like to tidy things up a bit. Thus this routine loads the table, classifies the galaxies _and throws out the unclassified galaxies_."
   ]
  },
  {
   "cell_type": "code",
   "execution_count": 7,
   "metadata": {
    "collapsed": true
   },
   "outputs": [],
   "source": [
    "def prepare_data():\n",
    "    \"\"\"\n",
    "    Load the table of galaxies and keep only ellipticals and spirals. \n",
    "    \"\"\"\n",
    "\n",
    "    t = read_morphology_catalogue()\n",
    "    # Use default settings\n",
    "    label = create_label(t)\n",
    "\n",
    "    # Extract only ellipticals and spirals\n",
    "    use = np.where((label >= 0) & (t['GR_REST'] > -1) & \n",
    "                   (t['GR_REST'] < 3.5) & (np.isfinite(t['GR_REST'])))\n",
    "    t = t[use]\n",
    "    label = label[use]\n",
    "\n",
    "    return t, label\n",
    "    "
   ]
  },
  {
   "cell_type": "code",
   "execution_count": 8,
   "metadata": {
    "collapsed": false
   },
   "outputs": [
    {
     "name": "stderr",
     "output_type": "stream",
     "text": [
      "/Users/jarle/anaconda/lib/python2.7/site-packages/ipykernel/__main__.py:12: RuntimeWarning: invalid value encountered in greater\n",
      "/Users/jarle/anaconda/lib/python2.7/site-packages/ipykernel/__main__.py:12: RuntimeWarning: invalid value encountered in less\n"
     ]
    }
   ],
   "source": [
    "t, label = prepare_data()"
   ]
  },
  {
   "cell_type": "markdown",
   "metadata": {},
   "source": [
    "To illustrate the data - and what we will do below, it is perhaps useful to see a poorly documented function that creates a plot more or less like the one I showed in the lecture:"
   ]
  },
  {
   "cell_type": "code",
   "execution_count": 55,
   "metadata": {
    "collapsed": true
   },
   "outputs": [],
   "source": [
    "def show_colour_class(t, N=500, include_kde=True, bandwidth=0.025):\n",
    "    \"\"\"\n",
    "Show a plot illustrating the classes and their colours. This creates\n",
    "a plot with two panels. The top panel will show a histogram of the g-r\n",
    "colours and the bottom will show the actual points.\n",
    "\n",
    "If include_kde is set to true then a KDE estimate is plotted on top\n",
    "of the histograms.\n",
    "    \"\"\"\n",
    "\n",
    "\n",
    "    ax_top = plt.subplot(211)\n",
    "    ax_bottom = plt.subplot(212, sharex=ax_top)\n",
    "    plt.setp( ax_top.get_xticklabels(), visible=False)\n",
    "    plt.subplots_adjust(hspace=0)\n",
    "\n",
    "    # Find all spirals and ellipticals.\n",
    "    is_e, = np.where((t['T_TYPE'] >= -10) & (t['T_TYPE'] <= -4))\n",
    "    is_s, = np.where((t['T_TYPE'] >= 4) & (t['T_TYPE'] <= 10))\n",
    "\n",
    "    # Get the first N.\n",
    "    is_e = is_e[0:N]\n",
    "    is_s = is_s[0:N]\n",
    "\n",
    "    gr_s = t['GR_REST'][is_s]\n",
    "    gr_e = t['GR_REST'][is_e]\n",
    "    y = np.arange(N)\n",
    " \n",
    "    # Now plot the scatter plot.\n",
    "    ax_bottom.scatter(gr_s, y, c='b')\n",
    "    ax_bottom.scatter(gr_e, y, c='r')\n",
    "    ax_bottom.set_xlim(0, 1.1)\n",
    "\n",
    "\n",
    "    # Then the histogram\n",
    "    hist(gr_s, bins=50, range=(0, 1.2), ax=ax_top, \n",
    "         histtype='step', color='b', normed=True)\n",
    "    hist(gr_e, bins=50, range=(0, 1.2), ax=ax_top, \n",
    "         histtype='step', color='r', normed=True)\n",
    "\n",
    "    # Finally create the kernel density estimate\n",
    "    kde_s = KernelDensity(bandwidth, kernel='gaussian').fit(gr_s[:, np.newaxis])\n",
    "    kde_e = KernelDensity(bandwidth, kernel='gaussian').fit(gr_e[:, np.newaxis])\n",
    "\n",
    "    gr_plot = np.linspace(0, 1.2, 1000)\n",
    "    ln_h_s = kde_s.score_samples(gr_plot[:,np.newaxis])\n",
    "    ln_h_e = kde_e.score_samples(gr_plot[:,np.newaxis])\n",
    "    h_s = np.exp(ln_h_s)\n",
    "    h_e = np.exp(ln_h_e)\n",
    "    \n",
    "    ax_top.plot(gr_plot, h_s, color='#000099')\n",
    "    ax_top.plot(gr_plot, h_e, color='#990000')\n",
    "    ax_bottom.set_ylim([-50, 590])\n",
    "\n",
    "    plt.show()\n"
   ]
  },
  {
   "cell_type": "code",
   "execution_count": 61,
   "metadata": {
    "collapsed": false
   },
   "outputs": [
    {
     "data": {
      "image/png": "[encoded data removed]",
      "text/plain": [
       "<matplotlib.figure.Figure at 0x11bbd3390>"
      ]
     },
     "metadata": {},
     "output_type": "display_data"
    }
   ],
   "source": [
    "show_colour_class(t, bandwidth=0.025)"
   ]
  },
  {
   "cell_type": "markdown",
   "metadata": {},
   "source": [
    "## Classification\n",
    "\n",
    "We are now ready to carry out the classification of the data. This is achieved by the following function:"
   ]
  },
  {
   "cell_type": "code",
   "execution_count": 11,
   "metadata": {
    "collapsed": false
   },
   "outputs": [],
   "source": [
    "def derive_p_class(t, label=None, ellipticals=(-10, 4), spirals=(4, 10),\\\n",
    "                    bw_spiral=0.025, bw_elliptical=0.025):\n",
    "    \"\"\"\n",
    " Given the table and a set of indices of the training sample, \n",
    " calculate the likelihood distribution p(g-r|class)\n",
    "\n",
    "    Input:\n",
    "    ------\n",
    "    t: A table such as that returned by the read_morphology_catalogue routine\n",
    " label: The class label of each galaxy in t. If None, this is derived by calling create_label.\n",
    " ellipticals: See create_label\n",
    " spirals:     See create_label\n",
    "\n",
    " bw_spiral: The band-width of the kernel used to estimate p(g-r|class) for spirals.\n",
    " bw_elliptical: The band-width for p(g-r|class) for ellipticals.\n",
    " \n",
    "    Output:\n",
    "    -------\n",
    "    \n",
    "    The kernel density for p(g-r|spiral) and p(g-r|elliptical). These are created \n",
    "    using KernelDensity in sklearn and the can be called as we have done in the past.\n",
    "    \"\"\"\n",
    "\n",
    "    # Classify galaxies if needed.\n",
    "    if label is None:\n",
    "        label = create_label(t, ellipticals=ellipticals, spirals=spirals)\n",
    "\n",
    "    # Get the feature(s) for the sample\n",
    "    gr = t['GR_REST']\n",
    "\n",
    "    # Then find the spirals and ellipticals.\n",
    "    is_s = np.where(label == 1)\n",
    "    is_e = np.where(label == 0)\n",
    "\n",
    "    # Get the colours of the spirals and ellipticals.\n",
    "    gr_s = gr[is_s]\n",
    "    gr_e = gr[is_e]\n",
    "    \n",
    "    # Create the kernel density estimates\n",
    "    kde_s = KernelDensity(bw_spiral, kernel='gaussian').fit(gr_s[:, np.newaxis])\n",
    "    kde_e = KernelDensity(bw_elliptical, kernel='gaussian').fit(gr_e[:, np.newaxis])\n",
    "\n",
    "    return kde_s, kde_e\n"
   ]
  },
  {
   "cell_type": "code",
   "execution_count": 12,
   "metadata": {
    "collapsed": true
   },
   "outputs": [],
   "source": [
    "kde_s, kde_e = derive_p_class(t, label)"
   ]
  },
  {
   "cell_type": "markdown",
   "metadata": {},
   "source": [
    "## Creating a test and training sample.\n",
    "\n",
    "The final utility that is worth showing you before you get on with your problem is to show how one can easily create a test and training sample. To do this here I chose to create an index array with the length of the full table and then call the `train_test_split` function on this to create an index array for the training and test samples (see the documentation for `train_test_split` to see what you are actually doing here!). There are of course other ways to do this. \n",
    "\n",
    "The result here is that the `train` and `test` variables will each contain a table like `t`."
   ]
  },
  {
   "cell_type": "code",
   "execution_count": 13,
   "metadata": {
    "collapsed": true
   },
   "outputs": [],
   "source": [
    "inds = np.arange(len(t))\n",
    "i_train, i_test = train_test_split(inds)\n",
    "train = t[i_train]\n",
    "test = t[i_test]"
   ]
  },
  {
   "cell_type": "markdown",
   "metadata": {},
   "source": [
    "# Your tasks\n",
    "\n",
    "Ok, that is enough for starting out. Now try to use the above to do the following:\n",
    "\n",
    " 1. Classify the sample of galaxies and calculate the mis-classification rate for spirals and ellipticals (see the lecture notes for the definition of mis-classification rate).\n",
    " 2. Does the mis-classification rate depend on the band-width? Could you use this to determine the band-width?\n",
    " 3. Classify the galaxies using a Gaussian Mixture Model instead. *Hint: you might want to modify the `derive_p_class` function.*"
   ]
  },
  {
   "cell_type": "markdown",
   "metadata": {},
   "source": [
    "## Solution"
   ]
  },
  {
   "cell_type": "markdown",
   "metadata": {},
   "source": [
    "In total disregard of order, I will start with 3, namely to modify the `derive_p_class` function. The new version uses GMM as well:"
   ]
  },
  {
   "cell_type": "code",
   "execution_count": 33,
   "metadata": {
    "collapsed": true
   },
   "outputs": [],
   "source": [
    "def derive_p_class_new(t, label=None, ellipticals=(-10, 4), spirals=(4, 10),\\\n",
    "                        bw_spiral=0.025, bw_elliptical=0.025, useGMM=False):\n",
    "    \"\"\"\n",
    " Given the table and a set of indices of the training sample, \n",
    " calculate the likelihood distribution p(g-r|class)\n",
    "\n",
    "    Input:\n",
    "    ------\n",
    "    t: A table such as that returned by the read_morphology_catalogue routine\n",
    " label: The class label of each galaxy in t. If None, this is derived by calling create_label.\n",
    " ellipticals: See create_label\n",
    " spirals:     See create_label\n",
    "\n",
    " bw_spiral: The band-width of the kernel used to estimate p(g-r|class) for spirals.\n",
    " bw_elliptical: The band-width for p(g-r|class) for ellipticals.\n",
    " useGMM:  use Gaussian Mixture Modeling to model the distributions. Default: False.\n",
    " \n",
    "    Output:\n",
    "    -------\n",
    "    \n",
    "    The kernel density for p(g-r|spiral) and p(g-r|elliptical). These are created \n",
    "    using KernelDensity in sklearn and the can be called as we have done in the past.\n",
    "    \"\"\"\n",
    "\n",
    "    # Classify galaxies if needed.\n",
    "    if label is None:\n",
    "        label = create_label(t, ellipticals=ellipticals, spirals=spirals)\n",
    "\n",
    "    # Get the feature(s) for the sample\n",
    "    gr = t['GR_REST']\n",
    "\n",
    "    # Then find the spirals and ellipticals.\n",
    "    is_s = np.where(label == 1)\n",
    "    is_e = np.where(label == 0)\n",
    "\n",
    "    # Get the colours of the spirals and ellipticals.\n",
    "    gr_s = gr[is_s]\n",
    "    gr_e = gr[is_e]\n",
    "    \n",
    "    # Create the kernel density estimates\n",
    "    old = False\n",
    "    if (useGMM):\n",
    "        # I use the name kde_s, kde_e despite these being Gaussian mixture densities..\n",
    "        if old:\n",
    "            # In older versions of sklearn, the Gaussian Mixture Modelling package is called GMM.\n",
    "            kde_s = GMM(10).fit(gr_s[:, np.newaxis])\n",
    "            kde_e = GMM(10).fit(gr_e[:, np.newaxis])\n",
    "        else:\n",
    "            # In newer it is called GaussianMixture\n",
    "            kde_s = mixture.GaussianMixture(n_components=10).fit(gr_s[:, np.newaxis])\n",
    "            kde_e = mixture.GaussianMixture(n_components=10).fit(gr_e[:, np.newaxis])\n",
    "    else :\n",
    "        kde_s = KernelDensity(bw_spiral, kernel='gaussian').fit(gr_s[:, np.newaxis])\n",
    "        kde_e = KernelDensity(bw_elliptical, kernel='gaussian').fit(gr_e[:, np.newaxis])\n",
    "\n",
    "    return kde_s, kde_e\n"
   ]
  },
  {
   "cell_type": "markdown",
   "metadata": {},
   "source": [
    "We can now move on to the rest. First I create a function to assign the class. This is based on the equation given in the lectures"
   ]
  },
  {
   "cell_type": "code",
   "execution_count": 21,
   "metadata": {
    "collapsed": true
   },
   "outputs": [],
   "source": [
    "def assign_class(gr, kde_s, kde_e):\n",
    "    \"\"\"\n",
    "Given two likelihood distributions, assign classes to galaxies using\n",
    "an observed g-r.\n",
    "    \"\"\"\n",
    "\n",
    "    p_s = kde_s.score_samples(gr[:, np.newaxis])\n",
    "    p_e = kde_e.score_samples(gr[:, np.newaxis])\n",
    "    \n",
    "    if (len(p_s) == 2):\n",
    "        # Here this means GMM - this is a bit naughty!\n",
    "        p_s = p_s[0]\n",
    "        p_e = p_e[0]\n",
    "        \n",
    "    cl = np.where(p_s > p_e, 1, 0)\n",
    "\n",
    "    return cl\n",
    "    "
   ]
  },
  {
   "cell_type": "markdown",
   "metadata": {},
   "source": [
    "We can now write a classification function. To be able to use the same function for GMMs, I introduce an option to do that."
   ]
  },
  {
   "cell_type": "code",
   "execution_count": 80,
   "metadata": {
    "collapsed": false
   },
   "outputs": [],
   "source": [
    "def classify_galaxies(t, input_class, useGMM=False, bw_spiral=0.025, bw_elliptical=0.025):\n",
    "    \"\"\"\n",
    "    Classify galaxies using a Bayes classifier. \n",
    "    \"\"\"\n",
    "\n",
    "    # First decide on a training and testing sample.\n",
    "\n",
    "    # I will be fairly simplistic here and use a 50%-50% split.\n",
    "\n",
    "    inds = np.arange(len(t))\n",
    "    i_train, i_test = train_test_split(inds)\n",
    "    train = t[i_train]\n",
    "    test = t[i_test]\n",
    "\n",
    "    # Use the default setup.\n",
    "    p_s, p_e = derive_p_class_new(train, useGMM=useGMM, bw_spiral=bw_spiral, bw_elliptical=bw_elliptical)\n",
    "    \n",
    "    # Then classify all (because it could be useful to have)\n",
    "    cl = assign_class(t['GR_REST'], p_s, p_e)\n",
    "\n",
    "    cl_test = cl[i_test]\n",
    "    cl_train = cl[i_train]\n",
    "\n",
    "    # Calculate the misclassification rate. This returns an \n",
    "    # array that is 0 where the test is true (ie, where the class is equal \n",
    "    # to the input class), and 1 otherwise.\n",
    "    #\n",
    "    class_match = np.where(cl == input_class, 0.0, 1.0)\n",
    "\n",
    "    n_misclass_all = np.sum(class_match)\n",
    "    n_misclass_train = np.sum(class_match[i_train])\n",
    "    n_misclass_test = np.sum(class_match[i_test])\n",
    "\n",
    "    f_misclass_all = n_misclass_all/len(t)\n",
    "    f_misclass_train = n_misclass_train/len(train)\n",
    "    f_misclass_test = n_misclass_test/len(test)\n",
    "\n",
    "    return {'predicted_class': cl, 'i_test': i_test, 'i_train': i_train,\n",
    "            'misclass_rate_all': f_misclass_all, \n",
    "            'misclass_rate_train': f_misclass_train,\n",
    "            'misclass_rate_test': f_misclass_test}\n",
    "\n",
    "\n",
    "def run_several_classifications(N=15):\n",
    "    \"\"\"\n",
    "Run the classification a number of times.\n",
    "    \"\"\"\n",
    "\n",
    "    t, label = prepare_data()\n",
    "    \n",
    "    rate_test = np.zeros(N)\n",
    "    rate_train = np.zeros(N)\n",
    "    rate_all = np.zeros(N)\n",
    "\n",
    "    for i in range(N):\n",
    "        print \"Doing repetition {0}\".format(i)\n",
    "        h = classify_galaxies(t, label)\n",
    "        rate_test[i] = h['misclass_rate_test']\n",
    "        rate_train[i] = h['misclass_rate_train']\n",
    "        rate_all[i] = h['misclass_rate_all']\n",
    "    \n",
    "\n",
    "    data = (rate_all, rate_test, rate_train)\n",
    "\n",
    "    pickle_to_file(data, 'misclass-rates.pkl')\n",
    "\n",
    "    return data"
   ]
  },
  {
   "cell_type": "code",
   "execution_count": 28,
   "metadata": {
    "collapsed": false
   },
   "outputs": [
    {
     "name": "stderr",
     "output_type": "stream",
     "text": [
      "/Users/jarle/anaconda/lib/python2.7/site-packages/ipykernel/__main__.py:12: RuntimeWarning: invalid value encountered in greater\n",
      "/Users/jarle/anaconda/lib/python2.7/site-packages/ipykernel/__main__.py:12: RuntimeWarning: invalid value encountered in less\n"
     ]
    }
   ],
   "source": [
    "t, label = prepare_data()"
   ]
  },
  {
   "cell_type": "code",
   "execution_count": 35,
   "metadata": {
    "collapsed": false
   },
   "outputs": [],
   "source": [
    "r_kde = classify_galaxies(t, label)\n",
    "r_GMM = classify_galaxies(t, label, useGMM=True)"
   ]
  },
  {
   "cell_type": "code",
   "execution_count": 37,
   "metadata": {
    "collapsed": false
   },
   "outputs": [
    {
     "data": {
      "text/plain": [
       "(0.19739952718676124, 0.2089243498817967)"
      ]
     },
     "execution_count": 37,
     "metadata": {},
     "output_type": "execute_result"
    }
   ],
   "source": [
    "r_kde['misclass_rate_test'], r_GMM['misclass_rate_test']"
   ]
  },
  {
   "cell_type": "code",
   "execution_count": 38,
   "metadata": {
    "collapsed": false
   },
   "outputs": [
    {
     "name": "stderr",
     "output_type": "stream",
     "text": [
      "/Users/jarle/anaconda/lib/python2.7/site-packages/ipykernel/__main__.py:12: RuntimeWarning: invalid value encountered in greater\n",
      "/Users/jarle/anaconda/lib/python2.7/site-packages/ipykernel/__main__.py:12: RuntimeWarning: invalid value encountered in less\n"
     ]
    },
    {
     "name": "stdout",
     "output_type": "stream",
     "text": [
      "Doing repetition 0\n",
      "Doing repetition 1\n",
      "Doing repetition 2\n",
      "Doing repetition 3\n",
      "Doing repetition 4\n",
      "Doing repetition 5\n",
      "Doing repetition 6\n",
      "Doing repetition 7\n",
      "Doing repetition 8\n",
      "Doing repetition 9\n",
      "Doing repetition 10\n",
      "Doing repetition 11\n",
      "Doing repetition 12\n",
      "Doing repetition 13\n",
      "Doing repetition 14\n"
     ]
    }
   ],
   "source": [
    "d = run_several_classifications(N=15)"
   ]
  },
  {
   "cell_type": "code",
   "execution_count": 40,
   "metadata": {
    "collapsed": false
   },
   "outputs": [
    {
     "data": {
      "image/png": "[encoded data removed]",
      "text/plain": [
       "<matplotlib.figure.Figure at 0x11540bad0>"
      ]
     },
     "metadata": {},
     "output_type": "display_data"
    }
   ],
   "source": [
    "plt.plot(d[1], label='test')\n",
    "plt.plot(d[2], label='train')\n",
    "plt.xlabel('Iteration')\n",
    "plt.ylabel('Misclassification rate')\n",
    "plt.title('Using a KDE with bandwidth 0.025')\n",
    "plt.legend()\n",
    "plt.savefig('misclass-rates.pdf', format='pdf')"
   ]
  },
  {
   "cell_type": "markdown",
   "metadata": {},
   "source": [
    "## Constraining band-widths.\n",
    "\n",
    "We can also try to run the classification for a range of bandwidths"
   ]
  },
  {
   "cell_type": "code",
   "execution_count": 53,
   "metadata": {
    "collapsed": true
   },
   "outputs": [],
   "source": [
    "def run_several_bandwidths():\n",
    "    \"\"\"\n",
    "Run the classification for multiple bandwidths.\n",
    "    \"\"\"\n",
    "\n",
    "    t, label = prepare_data()\n",
    "    \n",
    "    bandwidths = np.linspace(0.01, 0.5, 10) # [0.005, 0.01, 0.015, 0.02, 0.025, 0.03, 0.04, 0.05, 0.06, 0.07, 0.08, 0.1]\n",
    "    N = len(bandwidths)\n",
    "    \n",
    "    rate_test = np.zeros((N, N))\n",
    "    rate_train = np.zeros((N, N))\n",
    "    rate_all = np.zeros((N, N))\n",
    "\n",
    "    for i in range(N):\n",
    "        for j in range(N):\n",
    "            print \"Doing repetition {0}, {1}\".format(i, j)\n",
    "            h = classify_galaxies(t, label, bw_spiral=bandwidths[i], bw_elliptical=bandwidths[j])\n",
    "            rate_test[i, j] = h['misclass_rate_test']\n",
    "            rate_train[i, j] = h['misclass_rate_train']\n",
    "            rate_all[i, j] = h['misclass_rate_all']\n",
    "    \n",
    "\n",
    "    data = {'misclass rate all': rate_all, 'misclass rate test': rate_test,\n",
    "           'misclass rate train': rate_train, 'bandwidth spiral': np.array(bandwidths),\n",
    "           'bandwidth elliptical': np.array(bandwidths)}\n",
    "\n",
    "    pickle_to_file(data, 'misclass-vs-bandwidth.pkl')\n",
    "\n",
    "    return data"
   ]
  },
  {
   "cell_type": "code",
   "execution_count": 54,
   "metadata": {
    "collapsed": false
   },
   "outputs": [
    {
     "name": "stderr",
     "output_type": "stream",
     "text": [
      "/Users/jarle/anaconda/lib/python2.7/site-packages/ipykernel/__main__.py:12: RuntimeWarning: invalid value encountered in greater\n",
      "/Users/jarle/anaconda/lib/python2.7/site-packages/ipykernel/__main__.py:12: RuntimeWarning: invalid value encountered in less\n"
     ]
    },
    {
     "name": "stdout",
     "output_type": "stream",
     "text": [
      "Doing repetition 0, 0\n",
      "Doing repetition 0, 1\n",
      "Doing repetition 0, 2\n",
      "Doing repetition 0, 3\n",
      "Doing repetition 0, 4\n",
      "Doing repetition 0, 5\n",
      "Doing repetition 0, 6\n",
      "Doing repetition 0, 7\n",
      "Doing repetition 0, 8\n",
      "Doing repetition 0, 9\n",
      "Doing repetition 1, 0\n",
      "Doing repetition 1, 1\n",
      "Doing repetition 1, 2\n",
      "Doing repetition 1, 3\n",
      "Doing repetition 1, 4\n",
      "Doing repetition 1, 5\n",
      "Doing repetition 1, 6\n",
      "Doing repetition 1, 7\n",
      "Doing repetition 1, 8\n",
      "Doing repetition 1, 9\n",
      "Doing repetition 2, 0\n",
      "Doing repetition 2, 1\n",
      "Doing repetition 2, 2\n",
      "Doing repetition 2, 3\n",
      "Doing repetition 2, 4\n",
      "Doing repetition 2, 5\n",
      "Doing repetition 2, 6\n",
      "Doing repetition 2, 7\n",
      "Doing repetition 2, 8\n",
      "Doing repetition 2, 9\n",
      "Doing repetition 3, 0\n",
      "Doing repetition 3, 1\n",
      "Doing repetition 3, 2\n",
      "Doing repetition 3, 3\n",
      "Doing repetition 3, 4\n",
      "Doing repetition 3, 5\n",
      "Doing repetition 3, 6\n",
      "Doing repetition 3, 7\n",
      "Doing repetition 3, 8\n",
      "Doing repetition 3, 9\n",
      "Doing repetition 4, 0\n",
      "Doing repetition 4, 1\n",
      "Doing repetition 4, 2\n",
      "Doing repetition 4, 3\n",
      "Doing repetition 4, 4\n",
      "Doing repetition 4, 5\n",
      "Doing repetition 4, 6\n",
      "Doing repetition 4, 7\n",
      "Doing repetition 4, 8\n",
      "Doing repetition 4, 9\n",
      "Doing repetition 5, 0\n",
      "Doing repetition 5, 1\n",
      "Doing repetition 5, 2\n",
      "Doing repetition 5, 3\n",
      "Doing repetition 5, 4\n",
      "Doing repetition 5, 5\n",
      "Doing repetition 5, 6\n",
      "Doing repetition 5, 7\n",
      "Doing repetition 5, 8\n",
      "Doing repetition 5, 9\n",
      "Doing repetition 6, 0\n",
      "Doing repetition 6, 1\n",
      "Doing repetition 6, 2\n",
      "Doing repetition 6, 3\n",
      "Doing repetition 6, 4\n",
      "Doing repetition 6, 5\n",
      "Doing repetition 6, 6\n",
      "Doing repetition 6, 7\n",
      "Doing repetition 6, 8\n",
      "Doing repetition 6, 9\n",
      "Doing repetition 7, 0\n",
      "Doing repetition 7, 1\n",
      "Doing repetition 7, 2\n",
      "Doing repetition 7, 3\n",
      "Doing repetition 7, 4\n",
      "Doing repetition 7, 5\n",
      "Doing repetition 7, 6\n",
      "Doing repetition 7, 7\n",
      "Doing repetition 7, 8\n",
      "Doing repetition 7, 9\n",
      "Doing repetition 8, 0\n",
      "Doing repetition 8, 1\n",
      "Doing repetition 8, 2\n",
      "Doing repetition 8, 3\n",
      "Doing repetition 8, 4\n",
      "Doing repetition 8, 5\n",
      "Doing repetition 8, 6\n",
      "Doing repetition 8, 7\n",
      "Doing repetition 8, 8\n",
      "Doing repetition 8, 9\n",
      "Doing repetition 9, 0\n",
      "Doing repetition 9, 1\n",
      "Doing repetition 9, 2\n",
      "Doing repetition 9, 3\n",
      "Doing repetition 9, 4\n",
      "Doing repetition 9, 5\n",
      "Doing repetition 9, 6\n",
      "Doing repetition 9, 7\n",
      "Doing repetition 9, 8\n",
      "Doing repetition 9, 9\n"
     ]
    }
   ],
   "source": [
    "d = run_several_bandwidths()"
   ]
  },
  {
   "cell_type": "code",
   "execution_count": 44,
   "metadata": {
    "collapsed": false
   },
   "outputs": [
    {
     "data": {
      "text/plain": [
       "['bandwidth spiral',\n",
       " 'misclass rate test',\n",
       " 'bandwidth elliptical',\n",
       " 'misclass rate train',\n",
       " 'misclass rate all']"
      ]
     },
     "execution_count": 44,
     "metadata": {},
     "output_type": "execute_result"
    }
   ],
   "source": [
    "d.keys()"
   ]
  },
  {
   "cell_type": "code",
   "execution_count": 78,
   "metadata": {
    "collapsed": false
   },
   "outputs": [
    {
     "data": {
      "image/png": "[encoded data removed]",
      "text/plain": [
       "<matplotlib.figure.Figure at 0x11759fc10>"
      ]
     },
     "metadata": {},
     "output_type": "display_data"
    }
   ],
   "source": [
    "bws = d['bandwidth spiral']\n",
    "miss = d['misclass rate test']\n",
    "plt.plot(bws, miss[:, 2], label=\"E Bw={0:.2f}\".format(bws[2]))\n",
    "plt.plot(bws, miss[:, 5], label=\"E Bw={0:.2f}\".format(bws[5]))\n",
    "plt.plot(bws, miss[:, 9], label=\"E Bw={0:.2f}\".format(bws[9]))\n",
    "plt.xlabel('Bandwidth')\n",
    "plt.ylabel('Mis-classification on test sample')\n",
    "plt.legend()\n",
    "fig = plt.gcf()\n",
    "fig.set_size_inches(12, 8)"
   ]
  },
  {
   "cell_type": "code",
   "execution_count": 64,
   "metadata": {
    "collapsed": false
   },
   "outputs": [
    {
     "data": {
      "text/plain": [
       "<matplotlib.colorbar.Colorbar at 0x115445790>"
      ]
     },
     "execution_count": 64,
     "metadata": {},
     "output_type": "execute_result"
    },
    {
     "data": {
      "image/png": "[encoded data removed]",
      "text/plain": [
       "<matplotlib.figure.Figure at 0x11762c810>"
      ]
     },
     "metadata": {},
     "output_type": "display_data"
    }
   ],
   "source": [
    "plt.imshow(d['misclass rate test'])\n",
    "plt.colorbar()"
   ]
  },
  {
   "cell_type": "markdown",
   "metadata": {},
   "source": [
    "This leads to the surprising conclusion that we want a very large bandwidth to minimise the classification error. \n",
    "\n",
    "The reason for this is basically that at some point the model has trouble handling the red spirals or the bluest ellipticals and as long as the two distributions intersect more or less where the red transitions to blue below, it will give a comparable classification. To do better one would need to make a more complex classifier."
   ]
  },
  {
   "cell_type": "code",
   "execution_count": 86,
   "metadata": {
    "collapsed": false
   },
   "outputs": [
    {
     "data": {
      "image/png": "[encoded data removed]",
      "text/plain": [
       "<matplotlib.figure.Figure at 0x11c71ea50>"
      ]
     },
     "metadata": {},
     "output_type": "display_data"
    }
   ],
   "source": [
    "show_colour_class(t, bandwidth=0.025)"
   ]
  },
  {
   "cell_type": "code",
   "execution_count": null,
   "metadata": {
    "collapsed": true
   },
   "outputs": [],
   "source": []
  }
 ],
 "metadata": {
  "kernelspec": {
   "display_name": "Python 2",
   "language": "python",
   "name": "python2"
  },
  "language_info": {
   "codemirror_mode": {
    "name": "ipython",
    "version": 2
   },
   "file_extension": ".py",
   "mimetype": "text/x-python",
   "name": "python",
   "nbconvert_exporter": "python",
   "pygments_lexer": "ipython2",
   "version": "2.7.12"
  }
 },
 "nbformat": 4,
 "nbformat_minor": 0
}
