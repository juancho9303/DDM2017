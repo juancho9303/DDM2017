{
 "cells": [
  {
   "cell_type": "code",
   "execution_count": 66,
   "metadata": {
    "collapsed": true
   },
   "outputs": [],
   "source": [
    "import numpy as np\n",
    "import matplotlib.pyplot as plt\n",
    "import matplotlib.colors as colors\n",
    "from astropy.io import fits\n",
    "from astropy.table import Table\n",
    "from astroML.density_estimation import KNeighborsDensity\n",
    "from sklearn.neighbors import KernelDensity\n",
    "from astroML.datasets import fetch_great_wall\n",
    "from matplotlib.colors import LogNorm\n",
    "from astroML.plotting import hist\n",
    "%matplotlib inline"
   ]
  },
  {
   "cell_type": "code",
   "execution_count": 67,
   "metadata": {
    "collapsed": false,
    "scrolled": true
   },
   "outputs": [
    {
     "name": "stdout",
     "output_type": "stream",
     "text": [
      "     Name      MBH  MBHLow MBHHigh\n",
      "-------------- ---- ------ -------\n",
      " XTE J1118+480 7.55    6.9     8.2\n",
      " XTE J1550-564 10.5    9.5    11.5\n",
      "    GS 2000+25 6.55     --      --\n",
      "  GRO J0422+32 10.4     --      --\n",
      "   GRS 1009-45  8.5     --      --\n",
      "  GRS 1716-249  4.9     --      --\n",
      "       GX339-4  7.0     --      --\n",
      "      H1705-25  6.4    4.9     7.9\n",
      "      A0620-00  6.6   6.35    6.85\n",
      "XTEJ1650-50(0)  5.1     --      --\n",
      "           ...  ...    ...     ...\n",
      "    LVT151012b 13.0    8.0    17.0\n",
      "     LVT151012 37.0   33.0    50.0\n",
      "     GW151226a 14.2   10.5    22.5\n",
      "     GW151226b  7.5    5.2     9.8\n",
      "      GW151226 20.8   19.1    26.9\n",
      "     GW170104a 31.2   25.2    39.6\n",
      "     GW170104b 19.4   13.5    24.7\n",
      "      GW170104 48.7   44.1    54.4\n",
      "     GW170814a 32.0   28.0    36.0\n",
      "     GW170814b 24.5   21.0    28.0\n",
      "      GW170814 53.5   51.0    56.0\n",
      "Length = 39 rows\n"
     ]
    }
   ],
   "source": [
    "t = Table().read('/net/gooimeer/data1/juan/DBDM/DDM2017/Datasets/joint-bh-mass-table.csv')\n",
    "print t"
   ]
  },
  {
   "cell_type": "code",
   "execution_count": 68,
   "metadata": {
    "collapsed": false
   },
   "outputs": [],
   "source": [
    "\n",
    "def plot_histogram(t, binning_style, label, ax=None, xmin=-4, xmax=65):\n",
    "    \"\"\"\n",
    "    Convenience routine for plotting a histogram.\n",
    "    \"\"\"\n",
    "\n",
    "    if ax is not None:\n",
    "        ax = plt.axes(ax)\n",
    "\n",
    "    counts, bins, patches = hist(t, bins=binning_style, ax=ax,\n",
    "                                 color='k', histtype='step', normed=True)\n",
    "    ax.text(0.95, 0.93, '{0:s}:\\n{1:d} bins'.format(label, len(counts)),\n",
    "            transform=ax.transAxes, ha='right', va='top')\n",
    "\n",
    "    # Turn off y-axis labeling.\n",
    "    ax.yaxis.set_major_formatter(plt.NullFormatter())\n",
    "    ax.set_xlim(xmin, xmax)\n",
    "\n",
    "    return ax"
   ]
  },
  {
   "cell_type": "code",
   "execution_count": 69,
   "metadata": {
    "collapsed": false,
    "scrolled": true
   },
   "outputs": [
    {
     "data": {
      "image/png": "[encoded data removed]",
      "text/plain": [
       "<matplotlib.figure.Figure at 0x7f5434ee20d0>"
      ]
     },
     "metadata": {},
     "output_type": "display_data"
    }
   ],
   "source": [
    "fig, ax = plt.subplots(1, 7, figsize=(15, 5))\n",
    "styles = [1,2,3,4,5,6,7]\n",
    "titles = [\"1\", '2', '3', '4', '5', '6', '7']\n",
    "for i in range(len(styles)):\n",
    "    axis = plot_histogram(t['MBH'], styles[i], titles[i], ax=ax[i], xmin=-4, xmax=65)\n",
    "    ax[i].set_xlabel('nah')"
   ]
  },
  {
   "cell_type": "code",
   "execution_count": 70,
   "metadata": {
    "collapsed": true
   },
   "outputs": [],
   "source": [
    "np.random.seed(1)\n",
    "N = 150\n",
    "i1 = np.int(0.2*N)\n",
    "i2 = np.int(0.6*N)\n",
    "X = np.concatenate((np.random.normal(30, 5, i1),\n",
    "                    np.random.normal(20, 2, i2),\n",
    "                   np.random.normal(50, 3, i1)))[:, np.newaxis]\n",
    "np.random.shuffle(X)\n",
    "\n",
    "#Nb = 3000\n",
    "#Xbig = np.concatenate((np.random.normal(0, 1, i1),\n",
    "#                    np.random.normal(5, 0.7, i2),\n",
    "#                   np.random.normal(3, 0.2, i1)))[:, np.newaxis]"
   ]
  },
  {
   "cell_type": "code",
   "execution_count": 71,
   "metadata": {
    "collapsed": false
   },
   "outputs": [
    {
     "data": {
      "text/plain": [
       "<matplotlib.axes._subplots.AxesSubplot at 0x7f5435105290>"
      ]
     },
     "execution_count": 71,
     "metadata": {},
     "output_type": "execute_result"
    },
    {
     "data": {
      "image/png": "[encoded data removed]",
      "text/plain": [
       "<matplotlib.figure.Figure at 0x7f5435105690>"
      ]
     },
     "metadata": {},
     "output_type": "display_data"
    }
   ],
   "source": [
    "fig = plt.figure(figsize=(7, 7))\n",
    "ax = fig.add_subplot(111)\n",
    "plot_histogram(X[:,0], 10, 'knuth', ax=ax, xmin=-4, xmax=65)"
   ]
  },
  {
   "cell_type": "code",
   "execution_count": 72,
   "metadata": {
    "collapsed": true
   },
   "outputs": [],
   "source": [
    "from sklearn.model_selection import GridSearchCV"
   ]
  },
  {
   "cell_type": "code",
   "execution_count": 86,
   "metadata": {
    "collapsed": false
   },
   "outputs": [],
   "source": [
    "bws = np.linspace(0.01, 7, 500)\n",
    "#params = {'bandwidth': bws}"
   ]
  },
  {
   "cell_type": "code",
   "execution_count": 87,
   "metadata": {
    "collapsed": false
   },
   "outputs": [],
   "source": [
    "from sklearn.cross_validation import KFold\n",
    "\n",
    "def cv1(x, bws, model='gaussian', plot=False, n_folds=10):\n",
    "    \"\"\"\n",
    "    This calculates the leave-one-out cross validation. If you set \n",
    "    plot to True, then it will show a big grid of the test and training\n",
    "    samples with the KDE chosen at each step. You might need to modify the \n",
    "    code if you want a nicer layout :)\n",
    "    \"\"\"\n",
    "\n",
    "    # Get the number of bandwidths to check and the number of objects\n",
    "    N_bw = len(bws)\n",
    "    N = len(x)\n",
    "    cv_1 = np.zeros(N_bw)\n",
    "    \n",
    "    # If plotting is requested, set up the plot region\n",
    "    if plot:\n",
    "        fig, axes = plt.subplots(N_bw, np.ceil(N/n_folds), figsize=(15, 8))\n",
    "        xplot = np.linspace(-3, 8, 1000)\n",
    "\n",
    "    # Loop over each band-width and calculate the probability of the \n",
    "    # test set for this band-width\n",
    "    for i, bw in enumerate(bws):\n",
    "    \n",
    "        # I will do N-fold CV here. This divides X into N_folds\n",
    "        kf = KFold(N, n_folds=n_folds)\n",
    "\n",
    "        # Initiate - lnP will contain the log likelihood of the test sets\n",
    "        # and i_k is a counter for the folds that is used for plotting and\n",
    "        # nothing else..\n",
    "        lnP = 0.0\n",
    "        i_k = 0\n",
    "                                 \n",
    "        # Loop over each fold\n",
    "        for train, test in kf:\n",
    "            x_train = x[train, :]\n",
    "            x_test = x[test, :]\n",
    "            \n",
    "            # Create the kernel density model for this bandwidth and fit\n",
    "            # to the training set.\n",
    "            kde = KernelDensity(kernel=model, bandwidth=bw).fit(x_train)\n",
    "                                 \n",
    "            # score evaluates the log likelihood of a dataset given the fitted KDE.\n",
    "            log_prob = kde.score(x_test)\n",
    "            \n",
    "            if plot:\n",
    "                # Show the tries\n",
    "                ax = axes[i][i_k]\n",
    "\n",
    "                # Note that the test sample is hard to see here.\n",
    "                hist(x_train, bins=10, ax=ax, color='red')\n",
    "                hist(x_test, bins=10, ax=ax, color='blue')\n",
    "                ax.plot(xplot, np.exp(kde.score_samples(xplot[:, np.newaxis])))\n",
    "                i_k += 1\n",
    "            \n",
    "\n",
    "            lnP += log_prob\n",
    "            \n",
    "        # Calculate the average likelihood          \n",
    "        cv_1[i] = lnP/N\n",
    "        \n",
    "    return cv_1\n"
   ]
  },
  {
   "cell_type": "code",
   "execution_count": 88,
   "metadata": {
    "collapsed": false
   },
   "outputs": [
    {
     "data": {
      "text/plain": [
       "<matplotlib.text.Text at 0x7f5434e223d0>"
      ]
     },
     "execution_count": 88,
     "metadata": {},
     "output_type": "execute_result"
    },
    {
     "data": {
      "image/png": "[encoded data removed]",
      "text/plain": [
       "<matplotlib.figure.Figure at 0x7f5434507990>"
      ]
     },
     "metadata": {},
     "output_type": "display_data"
    }
   ],
   "source": [
    "cv = cv1(X, bws)\n",
    "plt.plot(bws, np.exp(cv))\n",
    "plt.xlabel('bandwidth')\n",
    "plt.ylabel('CV likelihood')\n",
    "plt.text(0.4, 0.04, 'Best BW={0:.4f}'.format(bws[np.argmax(cv)]))"
   ]
  },
  {
   "cell_type": "code",
   "execution_count": 89,
   "metadata": {
    "collapsed": false
   },
   "outputs": [
    {
     "name": "stdout",
     "output_type": "stream",
     "text": [
      "     Name      MBH  MBHLow MBHHigh\n",
      "-------------- ---- ------ -------\n",
      " XTE J1118+480 7.55    6.9     8.2\n",
      " XTE J1550-564 10.5    9.5    11.5\n",
      "    GS 2000+25 6.55     --      --\n",
      "  GRO J0422+32 10.4     --      --\n",
      "   GRS 1009-45  8.5     --      --\n",
      "  GRS 1716-249  4.9     --      --\n",
      "       GX339-4  7.0     --      --\n",
      "      H1705-25  6.4    4.9     7.9\n",
      "      A0620-00  6.6   6.35    6.85\n",
      "XTEJ1650-50(0)  5.1     --      --\n",
      "           ...  ...    ...     ...\n",
      "    LVT151012b 13.0    8.0    17.0\n",
      "     LVT151012 37.0   33.0    50.0\n",
      "     GW151226a 14.2   10.5    22.5\n",
      "     GW151226b  7.5    5.2     9.8\n",
      "      GW151226 20.8   19.1    26.9\n",
      "     GW170104a 31.2   25.2    39.6\n",
      "     GW170104b 19.4   13.5    24.7\n",
      "      GW170104 48.7   44.1    54.4\n",
      "     GW170814a 32.0   28.0    36.0\n",
      "     GW170814b 24.5   21.0    28.0\n",
      "      GW170814 53.5   51.0    56.0\n",
      "Length = 39 rows\n"
     ]
    },
    {
     "name": "stderr",
     "output_type": "stream",
     "text": [
      "WARNING: W03: None:9:0: W03: Implicitly generating an ID from a name '/Users/jarle/Documents/Leiden/Teaching/Databases & Datamining/2017/Datafiles/pulsar_masses.csv' -> '__Users_jarle_Documents_Leiden_Teaching_Databases___Datamining_2017_Datafiles_pulsar_masses.csv' [astropy.io.votable.exceptions]\n",
      "WARNING: W03: None:11:0: W03: Implicitly generating an ID from a name 'Journal paper' -> 'Journal_paper' [astropy.io.votable.exceptions]\n"
     ]
    }
   ],
   "source": [
    "data = Table().read('/net/gooimeer/data1/juan/DBDM/DDM2017/Datasets/pulsar_masses.vot')\n",
    "print t"
   ]
  },
  {
   "cell_type": "code",
   "execution_count": null,
   "metadata": {
    "collapsed": true
   },
   "outputs": [],
   "source": []
  }
 ],
 "metadata": {
  "kernelspec": {
   "display_name": "Python 2",
   "language": "python",
   "name": "python2"
  },
  "language_info": {
   "codemirror_mode": {
    "name": "ipython",
    "version": 2
   },
   "file_extension": ".py",
   "mimetype": "text/x-python",
   "name": "python",
   "nbconvert_exporter": "python",
   "pygments_lexer": "ipython2",
   "version": "2.7.13"
  }
 },
 "nbformat": 4,
 "nbformat_minor": 2
}
