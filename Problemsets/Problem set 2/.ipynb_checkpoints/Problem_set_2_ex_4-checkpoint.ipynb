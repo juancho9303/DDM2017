{
 "cells": [
  {
   "cell_type": "code",
   "execution_count": 8,
   "metadata": {
    "collapsed": false
   },
   "outputs": [],
   "source": [
    "#4 Choosing Models"
   ]
  },
  {
   "cell_type": "code",
   "execution_count": 44,
   "metadata": {
    "collapsed": false
   },
   "outputs": [],
   "source": [
    "#Import stuff\n",
    "\n",
    "import emcee\n",
    "import cPickle\n",
    "import scipy.optimize as op\n",
    "import numpy as np\n",
    "import matplotlib.pyplot as plt\n",
    "%matplotlib inline"
   ]
  },
  {
   "cell_type": "code",
   "execution_count": 45,
   "metadata": {
    "collapsed": false
   },
   "outputs": [],
   "source": [
    "def pickle_from_file(fname):\n",
    "    fh = open(fname, 'r')\n",
    "    data = cPickle.load(fh)\n",
    "    fh.close()\n",
    "    return data\n",
    "\n"
   ]
  },
  {
   "cell_type": "code",
   "execution_count": 46,
   "metadata": {
    "collapsed": false
   },
   "outputs": [
    {
     "data": {
      "image/png": "[encoded data removed]",
      "text/plain": [
       "<matplotlib.figure.Figure at 0x7fd3b16f8050>"
      ]
     },
     "metadata": {},
     "output_type": "display_data"
    }
   ],
   "source": [
    "d = pickle_from_file('data-for-poly-test.pkl')\n",
    "\n",
    "plt.errorbar(d['x'], d['y'], yerr=d['sigma_y'], fmt='o')\n",
    "plt.show()"
   ]
  },
  {
   "cell_type": "code",
   "execution_count": 47,
   "metadata": {
    "collapsed": false
   },
   "outputs": [
    {
     "name": "stdout",
     "output_type": "stream",
     "text": [
      "9\n",
      "9\n"
     ]
    },
    {
     "data": {
      "text/plain": [
       "[<matplotlib.lines.Line2D at 0x7fd3b1558990>]"
      ]
     },
     "execution_count": 47,
     "metadata": {},
     "output_type": "execute_result"
    },
    {
     "data": {
      "image/png": "[encoded data removed]",
      "text/plain": [
       "<matplotlib.figure.Figure at 0x7fd3b420cf90>"
      ]
     },
     "metadata": {},
     "output_type": "display_data"
    }
   ],
   "source": [
    "#Define likelihood, prior and posterior\n",
    "\n",
    "#Define likelihook  (a) and (b)\n",
    "def neglnL(theta, x, y, yerr, n):\n",
    "    model = np.polynomial.polynomial.polyval(x, theta)\n",
    "    inv_sigma2 = 1.0/(yerr**2)\n",
    "    return 0.5*(np.sum((y-model)**2*inv_sigma2))\n",
    "\n",
    "def lnL(theta, x, y, yerr):\n",
    "    model = np.polynomial.polynomial.polypow(theta, n, maxpower=None)\n",
    "    inv_sigma2 = 1.0/(yerr**2)\n",
    "    return -0.5*(np.sum((y-model)**2*inv_sigma2))\n",
    "\n",
    "\n",
    "n=9\n",
    "array_ml = []\n",
    "nums=[]\n",
    "for i in range (1, n+1):\n",
    "    theta = np.random.randn(i)\n",
    "    array_ml.append(neglnL(theta, d['x'], d['y'], d['sigma_y'], i))\n",
    "    nums.append(i)\n",
    "print len(array_ml)\n",
    "print len(nums)\n",
    "plt.plot(nums, array_ml, 'o')"
   ]
  },
  {
   "cell_type": "code",
   "execution_count": 93,
   "metadata": {
    "collapsed": false
   },
   "outputs": [
    {
     "name": "stdout",
     "output_type": "stream",
     "text": [
      "      fun: 2.684763983581953\n",
      " hess_inv: array([[ 0.02844318,  0.00053214],\n",
      "       [ 0.00053214,  0.00901792]])\n",
      "      jac: array([ -2.98023224e-08,  -1.19209290e-07])\n",
      "  message: 'Optimization terminated successfully.'\n",
      "     nfev: 24\n",
      "      nit: 4\n",
      "     njev: 6\n",
      "   status: 0\n",
      "  success: True\n",
      "        x: array([ 0.28233725,  1.31299656])\n"
     ]
    }
   ],
   "source": [
    "def neglnL(theta, x, y, yerr):\n",
    "    a, b = theta\n",
    "    model = b * x + a\n",
    "    inv_sigma2 = 1.0/(yerr**2)\n",
    "    return 0.5*(np.sum((y-model)**2*inv_sigma2))\n",
    "\n",
    "result = op.minimize(neglnL, [1.0, 0.0], args=(d['x'], d['y'], d['sigma']))\n",
    "a_ml, b_ml = result[\"x\"]\n",
    "\n",
    "print result"
   ]
  },
  {
   "cell_type": "code",
   "execution_count": 100,
   "metadata": {
    "collapsed": false
   },
   "outputs": [
    {
     "data": {
      "text/plain": [
       "(array([[ 0.34828525,  1.19042664],\n",
       "        [ 0.13077521,  1.42261985],\n",
       "        [ 0.15435806,  1.24789105],\n",
       "        [ 0.45987233,  1.42074497],\n",
       "        [-0.02359101,  1.26726388],\n",
       "        [ 0.26750361,  1.30262261],\n",
       "        [ 0.28157056,  1.31252742],\n",
       "        [ 0.36739088,  1.39929221],\n",
       "        [ 0.30315402,  1.2190963 ],\n",
       "        [ 0.26097466,  1.4090994 ],\n",
       "        [ 0.62018369,  1.10786907],\n",
       "        [ 0.19341058,  1.38759322],\n",
       "        [ 0.44951996,  1.28313977],\n",
       "        [ 0.34857423,  1.59567581],\n",
       "        [ 0.55626682,  1.17862954],\n",
       "        [ 0.5063883 ,  1.41627025],\n",
       "        [ 0.35600109,  1.18729062],\n",
       "        [ 0.19829158,  1.23715646],\n",
       "        [ 0.23792166,  1.40243485],\n",
       "        [ 0.4555022 ,  1.36004123],\n",
       "        [ 0.43438559,  1.27978721],\n",
       "        [-0.03284424,  1.24479706],\n",
       "        [ 0.51463705,  1.40286049],\n",
       "        [ 0.09228809,  1.30039836],\n",
       "        [ 0.1429476 ,  1.2178772 ],\n",
       "        [ 0.15123034,  1.31860187],\n",
       "        [ 0.26853868,  1.33921661],\n",
       "        [ 0.18183493,  1.48279005],\n",
       "        [ 0.45287772,  1.36954873],\n",
       "        [ 0.28334029,  1.3603192 ],\n",
       "        [ 0.21011859,  1.29060014],\n",
       "        [ 0.19674805,  1.38700763],\n",
       "        [ 0.36484349,  1.28439774],\n",
       "        [ 0.17566918,  1.46386775],\n",
       "        [ 0.54667854,  1.31308632],\n",
       "        [ 0.3129393 ,  1.31131413],\n",
       "        [ 0.27726055,  1.16485217],\n",
       "        [ 0.16852763,  1.34375471],\n",
       "        [ 0.32242592,  1.27444244],\n",
       "        [ 0.3727568 ,  1.29586775],\n",
       "        [ 0.32235758,  1.48090472],\n",
       "        [ 0.35671011,  1.30972742],\n",
       "        [ 0.33157152,  1.22839666],\n",
       "        [ 0.44033753,  1.27355066],\n",
       "        [ 0.42276216,  1.30670273],\n",
       "        [ 0.09889918,  1.48025991],\n",
       "        [ 0.34574283,  1.3388635 ],\n",
       "        [ 0.52657427,  1.29563996],\n",
       "        [ 0.39111186,  1.2407375 ],\n",
       "        [ 0.06472729,  1.09595054],\n",
       "        [ 0.1386253 ,  1.20661611],\n",
       "        [ 0.03482557,  1.31754852],\n",
       "        [ 0.18920348,  1.24490781],\n",
       "        [ 0.55992844,  1.38553559],\n",
       "        [ 0.42863594,  1.52802449],\n",
       "        [ 0.24228052,  1.2286348 ],\n",
       "        [ 0.44472321,  1.37293322],\n",
       "        [ 0.36225767,  1.34390934],\n",
       "        [ 0.17215278,  1.48024629],\n",
       "        [ 0.14248878,  1.2795027 ],\n",
       "        [ 0.23006508,  1.28287245],\n",
       "        [ 0.2315041 ,  1.17891345],\n",
       "        [ 0.29393692,  1.34548532],\n",
       "        [-0.03683203,  1.18036811],\n",
       "        [ 0.64519561,  1.39106636],\n",
       "        [ 0.20144445,  1.30794384],\n",
       "        [ 0.06549999,  1.4039749 ],\n",
       "        [ 0.36630852,  1.3778611 ],\n",
       "        [ 0.30142042,  1.28801252],\n",
       "        [ 0.297198  ,  1.29447343],\n",
       "        [ 0.2452497 ,  1.20902203],\n",
       "        [ 0.13692601,  1.37274759],\n",
       "        [ 0.28273575,  1.1753005 ],\n",
       "        [ 0.0667363 ,  1.21495029],\n",
       "        [ 0.41815527,  1.25376104],\n",
       "        [ 0.23570661,  1.57564949],\n",
       "        [ 0.50526532,  1.25875186],\n",
       "        [ 0.17055633,  1.30825105],\n",
       "        [ 0.35966768,  1.37300566],\n",
       "        [ 0.42359191,  1.24896363],\n",
       "        [ 0.30248629,  1.39354271],\n",
       "        [ 0.14148501,  1.24875471],\n",
       "        [ 0.26736133,  1.39969788],\n",
       "        [ 0.3897581 ,  1.16721244],\n",
       "        [ 0.30001107,  1.3185843 ],\n",
       "        [ 0.12750513,  1.08597301],\n",
       "        [-0.0171412 ,  1.20100157],\n",
       "        [ 0.14075338,  1.34793636],\n",
       "        [ 0.78544441,  1.19870547],\n",
       "        [ 0.27141636,  1.41730054],\n",
       "        [ 0.37860742,  1.26629833],\n",
       "        [ 0.21370561,  1.31790752],\n",
       "        [ 0.195648  ,  1.40825819],\n",
       "        [ 0.07107424,  1.23452971],\n",
       "        [ 0.18542855,  1.42600378],\n",
       "        [ 0.05852921,  1.54491442],\n",
       "        [ 0.0120626 ,  1.53496495],\n",
       "        [ 0.27714697,  1.30660346],\n",
       "        [ 0.41135906,  1.24293105],\n",
       "        [ 0.25954446,  1.15888081]]),\n",
       " array([-3.6119846 , -3.79055918, -3.19097282, -3.84412479, -4.41886132,\n",
       "        -2.69429021, -2.6847858 , -3.21018121, -3.18586445, -3.20970285,\n",
       "        -7.17293629, -3.14658277, -3.23648544, -7.15846897, -5.08388375,\n",
       "        -4.11212453, -3.67660315, -3.1150921 , -3.17173887, -3.31839651,\n",
       "        -3.16331775, -4.6464974 , -4.03931309, -3.32422956, -3.50135839,\n",
       "        -2.99053242, -2.72702628, -4.49820252, -3.35408166, -2.80898596,\n",
       "        -2.80103144, -3.1308813 , -2.85485976, -4.18186724, -3.91442178,\n",
       "        -2.70150861, -3.90184215, -2.97249171, -2.79876228, -2.84814466,\n",
       "        -4.26389445, -2.78320421, -3.133341  , -3.22340159, -3.03582259,\n",
       "        -4.8935697 , -2.78924682, -3.76006058, -3.19913035, -6.03487246,\n",
       "        -3.64462752, -3.76636375, -3.08157183, -4.2910847 , -5.56254107,\n",
       "        -3.10101703, -3.32800483, -2.84508007, -4.48934493, -3.0814859 ,\n",
       "        -2.77994891, -3.71399259, -2.74493726, -5.36594601, -5.28133927,\n",
       "        -2.80048942, -4.01261185, -3.03107852, -2.72681022, -2.70826677,\n",
       "        -3.301025  , -3.27308419, -3.73729428, -3.99248442, -3.22086527,\n",
       "        -6.5776654 , -3.74778965, -2.90480299, -2.98024759, -3.28227555,\n",
       "        -3.0486459 , -3.24418622, -3.10865602, -4.10003962, -2.69178901,\n",
       "        -5.89442823, -4.88966192, -3.11557604, -7.98367286, -3.29310079,\n",
       "        -2.97824577, -2.76969616, -3.33787599, -3.77754006, -3.58163254,\n",
       "        -6.65953115, -6.82969363, -2.6874378 , -3.26898314, -4.00498129]),\n",
       " ('MT19937', array([2791477964, 2094881005, 2153163362, 2330582070, 1427308220,\n",
       "         1482983706, 1927207096, 3191862670, 3529913343, 4238869921,\n",
       "         1798598956,  440949525,  539295343, 3988536368,  965494699,\n",
       "         2771175372,  384819583, 2023969105, 3730269431, 3656808045,\n",
       "          556496014, 1755439982,  891060534, 2322427625, 3492983348,\n",
       "         2046613808,  975826402, 2320953603, 2060578437, 2113289586,\n",
       "         2120673400, 3138950670, 2241646124, 3771142156, 1223678504,\n",
       "         1375711059,  507588342, 2093962499, 4018192041, 2390030221,\n",
       "         2920558344, 3341496641, 1089088313, 2215840136, 1750996956,\n",
       "         3472975934, 4171327960, 1791854747, 3099076382, 2383575466,\n",
       "          771334581, 1653347890, 1998243479,  370308852,  444836371,\n",
       "         2848691726, 1719595930,  312094535,  660429201, 2227497110,\n",
       "         3681534956,  739360364, 2572175902, 3993736355, 2615161085,\n",
       "         3192017167,  886510215,  152361414, 2596842818, 4225529801,\n",
       "         1843761796,  781847900, 4200227091, 3486897035, 2434344130,\n",
       "         2441980576,  959287144,  792032598, 1089001116, 2664154358,\n",
       "           53360752, 2569734294, 2456553902, 1730566960, 3271324565,\n",
       "         1735760659, 2776402838, 2682088613, 4105397465, 4013024859,\n",
       "         2937191276, 3358969672, 4260939918, 1998069941,   95755211,\n",
       "         1058350698,  227456962,  525667598, 3350695993, 2061237659,\n",
       "         1648628312, 3969310851, 1644693164, 1542732451, 3393343117,\n",
       "         1508243403,  111118695,  270313364, 2723912379, 1000674751,\n",
       "         2329999113,   86630140, 2106746221, 3316496725, 1398551548,\n",
       "         2571909833,  331273594, 3632540935,  355227990,  719127771,\n",
       "         2849217672,  175342258, 1568853527, 2895407485, 4081831492,\n",
       "         3900903213,  507439170, 3094761508, 1779289998,  426701739,\n",
       "         1243849730, 1489091481, 3155309008, 4007164764,  119225958,\n",
       "         3403722060, 2575044187, 4187631217,  622746417,  943712441,\n",
       "         2061352621,  476302187, 3444754020, 3581053546, 2800767205,\n",
       "          109484338, 1240704556, 2170318369, 3125574864, 1226202712,\n",
       "         1004521918, 1963301544, 2279408416, 2385195656, 3227694014,\n",
       "         4183960962, 3867956114,  593674369,  974803586, 1481437336,\n",
       "         2299977265,   80264730,  893151795, 3555504060, 3604688333,\n",
       "            8089648, 4180381009, 1098259768, 3533808211,  881949546,\n",
       "         4039092097, 3182616399,  371042713, 2819141384, 3307211257,\n",
       "         1546312266, 2956085136, 3961470879, 2838279403, 2305150347,\n",
       "         3749578640, 4249517409, 2355269683,  273830771,  288149463,\n",
       "          228887928,  302346811, 2112541765, 3894064773, 1920269559,\n",
       "         3149031560, 3887554399, 4216580109,  613303005, 3264483503,\n",
       "         1685689934, 3421677290,  755179161, 3211331080, 4272158746,\n",
       "         2436635518,   61722647, 3514602812, 1769145503,  299080309,\n",
       "         2268724119, 2299714070,  241457047, 1401294332, 1636044547,\n",
       "         1077081508, 1594316109, 3089970577,  987467253, 1657168133,\n",
       "         1009960874, 1072190840, 3620974624,  751531816, 3172702403,\n",
       "         1001034247, 3801158372, 4143530491, 3861289296,    3159117,\n",
       "         1090746856,  158022800, 1305762382, 2653763532,  445053315,\n",
       "         3213564507, 1074467661, 3585926604, 3985400009,  663185996,\n",
       "          823727398, 1470938066, 2854600173,  781674388, 2506427431,\n",
       "         3320940255,  105597911,   99737934, 1530330460, 3042657365,\n",
       "         3555967582,  280329352, 4074815716, 4001749433, 3656225042,\n",
       "         3815101309,  913304317, 3830411845, 2185970946, 2001680608,\n",
       "         1666351994, 1244525022, 3507699973,  878080042, 2431080316,\n",
       "         3391574966, 4243401955,  889943564, 1986659946, 3715787909,\n",
       "         3362967983,  959636133,  131206097, 4112704540,  305915779,\n",
       "          697557575,  332706172, 2716406713, 3512995766, 4271063438,\n",
       "          515896570, 2041250649, 2371074874, 2347545904, 2133334950,\n",
       "         1901746046, 3886235950,  961052899, 1897506145, 2487341105,\n",
       "         3610926827,  226716078,     880655, 3393077925, 1283527613,\n",
       "          339384047, 3426187568,  844204390, 1929454276, 2117276448,\n",
       "         1275672314, 3386237702, 1156533158, 2106279570, 3615803594,\n",
       "         2654689105, 4096285531, 2366667504, 1402502283, 2799364431,\n",
       "         4218806829, 3194835607,  722626762, 2562007299, 3693960839,\n",
       "         2493846546, 1060079978, 1394783673, 2025088368, 4020546721,\n",
       "         2725331734, 2465104121,  182673017,  391233930, 1856123654,\n",
       "         2618209136, 3023065243, 4006017234, 4279520618, 1829132770,\n",
       "         2982728632, 1157485451, 3564046908,  299586148, 1081662139,\n",
       "         4030702483,  377523947,  687006131, 2204165035, 2331152172,\n",
       "         3841549735, 1948744840, 4106597406, 1310821770, 1048274773,\n",
       "         2765268110, 1585433007, 3037041550,  628317536, 1764759495,\n",
       "         4151377515, 1788855612, 1056330286, 1887426930, 1194804164,\n",
       "         1111674749, 3120236307, 3300193956, 1667162427,  217643998,\n",
       "         1341617976, 3094670646, 3410733049,  338115450, 3624395610,\n",
       "         3809075669, 2381158926, 4228789605,  670887908, 2698720408,\n",
       "         1246099180,  427423937, 3120145224,  109122486,   60513110,\n",
       "         2186834118,  276161854, 2789799562, 1819499273, 1327880658,\n",
       "         2091088599, 3918307506, 2148181727, 1121920922, 1006192203,\n",
       "         1697378349,  727159812,   27383828, 4046836811, 3813555062,\n",
       "         3668865063,  686223471, 3675464375,  856714325, 1239683929,\n",
       "         1338600694, 2461822808, 1636509699, 1470831127, 1787705262,\n",
       "           11702202,  816910429, 4172944856, 3569630839, 4050563987,\n",
       "          815216957,  268866341, 2304379214, 2333349111, 2884996400,\n",
       "         2636386962, 2418695398, 2146090716,  104130438,  987310586,\n",
       "         2011941350, 3753513150, 3858020432, 1332977378,  582450696,\n",
       "         1727220441,  693763930, 1276597538, 4096929022, 2419923357,\n",
       "          497648988, 1340018131,  934508701, 1092173700, 3430557795,\n",
       "          348806191, 4186398972, 2089751668, 4044510197,  690615691,\n",
       "         3578110371, 2868274853, 2521295701,   64128911, 3665170218,\n",
       "          844652034, 1052918942, 2026855338, 2421264368, 2311849169,\n",
       "          724434079, 3506204506, 3264073061, 3414560442, 3818907569,\n",
       "         2180001564, 1917332517, 3535675605, 1013790545,  729417866,\n",
       "         1990717008, 3033074772, 2822636108,   56816843, 2318126038,\n",
       "         1196443766, 1076553201, 2185230023, 2152707844,  454987399,\n",
       "          521421709, 2205860308, 2125012176, 1743695263, 2849890275,\n",
       "         3691493948,  885936933,  641257973, 1272441782, 3494183618,\n",
       "         1590223361,  608886203, 1169410851,  491749531, 3269638482,\n",
       "         3097064562, 1038235805, 2424246063, 1924161896, 4150512676,\n",
       "          263653709, 3278653168,  519231842, 1189733603, 1293315160,\n",
       "          782957402, 4113541160,  255943210, 3475581372, 2288772221,\n",
       "           36036915, 3734578097,  979897978,  928184416, 3448035308,\n",
       "         3413871026, 3315578716, 1726093835, 1106904043,  652436807,\n",
       "         1185526257,  451697237,  666937318, 3720982177, 2379541641,\n",
       "         2607543585,  548685023, 3436066512, 1996529745, 3845687978,\n",
       "         1017445853, 2632733521, 2864879722,  915114044, 1803286769,\n",
       "         4132418888, 2477287321, 2282036631,  250314590,  303624087,\n",
       "          558403157,   97395211, 2589275380, 1085527132,  653993800,\n",
       "         1150793235, 3562665230, 2711961098, 2311804236, 1866561422,\n",
       "         3986411552, 4042691872, 3629912354, 2017122309, 2722273140,\n",
       "         2361738301,  735639736,  270798110, 1164529541, 3964995530,\n",
       "           69961107, 2263505810,  467920288,  976072623,  612172536,\n",
       "         3077903667,  787803241, 2277120570, 3038131679, 1677093999,\n",
       "         3995750151, 1120144551, 1106459215, 1805087678, 3313534036,\n",
       "         3213801696, 1869514114, 1079420595,  247425650, 4021051443,\n",
       "          195312491, 3408383053, 1213560736, 2954079329, 3300054908,\n",
       "         2945535974, 1873199577, 1646170598, 3096076428,  541932518,\n",
       "         1369058194, 1245528207, 2334840844, 3923886798, 1292729167,\n",
       "          885441017, 1008010800,  220756627, 2017978495, 2999174286,\n",
       "            6606975, 2649731317,  334529066,  176762674,  676462465,\n",
       "         3055111303, 2367459942, 1065762110,  419209958, 4023995432,\n",
       "         4130684666, 3315085668, 1974443615,  172976443, 3684249052,\n",
       "         4082468433, 2652499566,  581103970, 3070748234, 4250644426,\n",
       "         2998291705, 2028846431,  929024381, 3246249722, 2405608193,\n",
       "         1964948872, 1643510324, 2072014397, 3667536806, 3193565920,\n",
       "         2831645055,  510878251, 2980982060, 1825670525,  515245833,\n",
       "         3769674602, 3837598011, 2050729887,  673497389,   44679806,\n",
       "          278155896,  714842216, 4183665833, 1669355835], dtype=uint32), 593, 0, 0.0))"
      ]
     },
     "execution_count": 100,
     "metadata": {},
     "output_type": "execute_result"
    }
   ],
   "source": [
    "#3.c Setup the initial positions and run the MCMC code:\n",
    "\n",
    "p_init = np.array([ a_ml, b_ml])\n",
    "\n",
    "# Set up the properties of the problem.\n",
    "ndim, nwalkers = 2, 100\n",
    "# Setup a number of initial positions.\n",
    "pos = [p_init + 1e-4*np.random.randn(ndim) for i in range(nwalkers)]\n",
    "# Create the sampler.\n",
    "sampler = emcee.EnsembleSampler(nwalkers, ndim, lnprob, args=(d['x'], d['y'],\n",
    "d['sigma']))\n",
    "# Run the process.\n",
    "sampler.run_mcmc(pos,500)"
   ]
  },
  {
   "cell_type": "code",
   "execution_count": 101,
   "metadata": {
    "collapsed": false
   },
   "outputs": [
    {
     "data": {
      "image/png": "[encoded data removed]",
      "text/plain": [
       "<matplotlib.figure.Figure at 0x7f2e4a474dd0>"
      ]
     },
     "metadata": {},
     "output_type": "display_data"
    },
    {
     "data": {
      "image/png": "[encoded data removed]",
      "text/plain": [
       "<matplotlib.figure.Figure at 0x7f2e4a3fb850>"
      ]
     },
     "metadata": {},
     "output_type": "display_data"
    }
   ],
   "source": [
    "for i in range(ndim):\n",
    "    pl.figure()\n",
    "    pl.hist(sampler.flatchain[:,i], 100, color=\"k\", histtype=\"step\")\n",
    "    pl.title(\"Dimension {0:d}\".format(i))\n",
    "\n",
    "pl.show()"
   ]
  },
  {
   "cell_type": "code",
   "execution_count": null,
   "metadata": {
    "collapsed": true
   },
   "outputs": [],
   "source": []
  }
 ],
 "metadata": {
  "kernelspec": {
   "display_name": "Python 2",
   "language": "python",
   "name": "python2"
  },
  "language_info": {
   "codemirror_mode": {
    "name": "ipython",
    "version": 2
   },
   "file_extension": ".py",
   "mimetype": "text/x-python",
   "name": "python",
   "nbconvert_exporter": "python",
   "pygments_lexer": "ipython2",
   "version": "2.7.13"
  }
 },
 "nbformat": 4,
 "nbformat_minor": 2
}
